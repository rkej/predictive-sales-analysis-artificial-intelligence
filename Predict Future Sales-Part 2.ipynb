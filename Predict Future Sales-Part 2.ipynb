{
 "cells": [
  {
   "cell_type": "markdown",
   "metadata": {},
   "source": [
    "The Part-1 of this competition which deals with data preparation can be found @ https://www.kaggle.com/jatinmittal0001/predict-future-sales-part-1"
   ]
  },
  {
   "cell_type": "code",
   "execution_count": 1,
   "metadata": {
    "_cell_guid": "b1076dfc-b9ad-4769-8c92-a6c4dae69d19",
    "_uuid": "8f2839f25d086af736a60e9eeb907d3b93b6e0e5",
    "scrolled": true
   },
   "outputs": [
    {
     "name": "stdout",
     "output_type": "stream",
     "text": [
      "['.ipynb_checkpoints', 'all_data1', 'competitive-data-science-predict-future-sales.zip', 'items.csv', 'item_categories.csv', 'Predict Future sales Part-1.ipynb', 'Predict Future Sales-Part 2.ipynb', 'sales_train.csv.gz', 'sales_train_v2.csv', 'sample_submission.csv', 'sample_submission.csv.gz', 'shops.csv', 'test.csv', 'test.csv.gz']\n"
     ]
    }
   ],
   "source": [
    "import warnings\n",
    "warnings.filterwarnings('ignore')\n",
    "import gc\n",
    "import pickle\n",
    "import numpy as np \n",
    "import pandas as pd\n",
    "import matplotlib.pyplot as plt\n",
    "import seaborn as sns\n",
    "import math\n",
    "from itertools import product\n",
    "from sklearn.model_selection import train_test_split, GridSearchCV\n",
    "from sklearn.preprocessing import StandardScaler, RobustScaler\n",
    "from xgboost import XGBRegressor\n",
    "from sklearn.linear_model import SGDRegressor\n",
    "from sklearn.svm import SVR\n",
    "import matplotlib.pyplot as plt\n",
    "import seaborn as sns\n",
    "from xgboost import plot_importance\n",
    "from matplotlib.pyplot import figure\n",
    "from sklearn.ensemble import RandomForestRegressor\n",
    "from sklearn.linear_model import LinearRegression\n",
    "def plot_features(booster, figsize):    \n",
    "    fig, ax = plt.subplots(1,1,figsize=figsize)\n",
    "    return plot_importance(booster=booster, ax=ax)\n",
    "import os\n",
    "print(os.listdir())\n",
    "\n",
    "# Any results you write to the current directory are saved as output."
   ]
  },
  {
   "cell_type": "code",
   "execution_count": 2,
   "metadata": {
    "_cell_guid": "79c7e3d0-c299-4dcb-8224-4455121ee9b0",
    "_uuid": "d629ff2d2480ee46fbb7e2d37f6b5fab8052498a"
   },
   "outputs": [],
   "source": [
    "#Importing datasets\n",
    "sales_train = pd.read_csv(\"sales_train_v2.csv\")\n",
    "test = pd.read_csv(\"test.csv\")\n",
    "test.drop('ID',axis=1,inplace=True)"
   ]
  },
  {
   "cell_type": "markdown",
   "metadata": {},
   "source": [
    "In previous part we made shop_id 10 equal to shop_id 11 for train part, doing same for test part now."
   ]
  },
  {
   "cell_type": "code",
   "execution_count": 3,
   "metadata": {},
   "outputs": [],
   "source": [
    "test_shop_item_pair = test[(test.shop_id==10)]\n",
    "test_shop_item_pair.loc[test_shop_item_pair.shop_id == 10, 'shop_id']= 11\n",
    "test.loc[test.shop_id == 10, 'shop_id']= 11"
   ]
  },
  {
   "cell_type": "markdown",
   "metadata": {},
   "source": [
    "Defining function to reduce size of dataframe by downcasting data types."
   ]
  },
  {
   "cell_type": "code",
   "execution_count": 4,
   "metadata": {},
   "outputs": [],
   "source": [
    "def reduce_size(df):\n",
    "    float_cols = [c for c in df if df[c].dtype == \"float64\"]\n",
    "    int_cols = [c for c in df if df[c].dtype in [\"int64\", \"int32\"]]\n",
    "    df[float_cols] = df[float_cols].astype(np.float32)\n",
    "    df[int_cols] = df[int_cols].astype(np.int16)\n",
    "    return df"
   ]
  },
  {
   "cell_type": "code",
   "execution_count": 5,
   "metadata": {},
   "outputs": [],
   "source": [
    "# to open the dataset from previous kernel\n",
    "all_data1 = pickle.load(open(\"all_data1\",\"rb\"))"
   ]
  },
  {
   "cell_type": "markdown",
   "metadata": {},
   "source": [
    "# Modeling"
   ]
  },
  {
   "cell_type": "markdown",
   "metadata": {},
   "source": [
    "I ran model multiple times with different features and now keeping features which came out to be important."
   ]
  },
  {
   "cell_type": "code",
   "execution_count": 6,
   "metadata": {},
   "outputs": [],
   "source": [
    "feat_to_keep = ['date_block_num', 'shop_id', 'item_id', 'item_cnt_month',\n",
    "       'item_category_id', 'subtype', 'db_avg_items_sold_lag_1',\n",
    "       'db_shop_cat_avg_items_sold_lag_1', 'db_item_id_items_sold_lag_1',\n",
    "       'db_item_id_items_sold_lag_2', 'db_item_id_items_sold_lag_3',\n",
    "       'db_item_id_items_sold_lag_6','city_target_enc',\n",
    "       'item_id_target_enc', 'month_target_enc','db_shop_city_avg_items_sold_lag_1',\n",
    "       'db_shop_city_avg_items_sold_lag_2', 'db_city_avg_items_sold_lag_1',\n",
    "       'month', 'item_months_since_first_sale','item_shop_last_sale',\n",
    "       'db_item_avg_price_lag_1','delta_price_lag', 'delta_price_lag_1',\n",
    "        'delta_price_lag_3','max_cnt_lag_1', 'max_cnt_lag_3','max_cnt_lag_6',  'revenue_shop_lag_2']"
   ]
  },
  {
   "cell_type": "code",
   "execution_count": 7,
   "metadata": {},
   "outputs": [],
   "source": [
    "all_data1 = all_data1.loc[:,feat_to_keep]"
   ]
  },
  {
   "cell_type": "code",
   "execution_count": 8,
   "metadata": {},
   "outputs": [],
   "source": [
    "X_train = all_data1[all_data1.date_block_num < 33].drop(['item_cnt_month'], axis=1)\n",
    "Y_train = all_data1[all_data1.date_block_num < 33]['item_cnt_month']\n",
    "X_valid = all_data1[all_data1.date_block_num == 33].drop(['item_cnt_month'], axis=1)\n",
    "Y_valid = all_data1[all_data1.date_block_num == 33]['item_cnt_month']\n",
    "X_test = all_data1[all_data1.date_block_num == 34].drop(['item_cnt_month'], axis=1)\n",
    "\n",
    "del all_data1\n",
    "gc.collect();"
   ]
  },
  {
   "cell_type": "markdown",
   "metadata": {},
   "source": [
    "Why is standardization/normalization required?\n",
    "To make our features of same range so that our gradient descent converges faster.\n",
    "\n",
    "Here we do not require above techniques, for following reasons:\n",
    "1. We will try our model on XGBoost which does not use Gradient Boosting per se.\n",
    "2. Even if we use other models that use GB, our features are almost of similar range expect item_id feature, so we convergence of GB won't be affected much. Item_id feature is like a categorical feature which makes no sense to be numerically scaled.\n",
    "\n",
    "Right now we are not using One hot encoding, that area can also be explored.\n",
    "But we are using other kind of encoding."
   ]
  },
  {
   "cell_type": "code",
   "execution_count": 9,
   "metadata": {},
   "outputs": [],
   "source": [
    "#Defining function to calculate RMSE, for manual evaluation\n",
    "from sklearn.metrics import mean_squared_error\n",
    "from math import sqrt\n",
    "\n",
    "def rmse(y_pred, y_test):\n",
    "    rmse = sqrt(mean_squared_error(y_test,y_pred))\n",
    "    return print(rmse)"
   ]
  },
  {
   "cell_type": "markdown",
   "metadata": {},
   "source": [
    "Defining function to predict and make final submission, useful if you want to try out multiple models."
   ]
  },
  {
   "cell_type": "code",
   "execution_count": 10,
   "metadata": {},
   "outputs": [],
   "source": [
    "def predict(model,name):\n",
    "    Y_test = model.predict(X_test).clip(0., 20.)\n",
    "    results = X_test.loc[:,['shop_id', 'item_id']]\n",
    "    results['prediction'] = Y_test\n",
    "    if len(test.columns)==3:\n",
    "        test.drop('ID',axis=1,inplace=True)\n",
    "    sub = pd.merge(test, results, on = ['shop_id', 'item_id'], how='left')\n",
    "    submission = pd.DataFrame({\n",
    "        \"ID\": test.index, \n",
    "        \"item_cnt_month\": sub['prediction']\n",
    "    })\n",
    "    file_name = str(name) + '_submission.csv'\n",
    "    submission.to_csv(file_name, index=False)"
   ]
  },
  {
   "cell_type": "markdown",
   "metadata": {},
   "source": [
    "# XGBOOST"
   ]
  },
  {
   "cell_type": "markdown",
   "metadata": {},
   "source": [
    "Apart from XGBoost, I tried other individual models as marked in comments, but they were not giving improvement in performance.\n",
    "I also tried Ensembling (Stacking) but it was also not giving improvement in performance as compared to only XGBoost. So I am only using XGBoost. However, I am marking those models under comments for you to try and learn.  "
   ]
  },
  {
   "cell_type": "code",
   "execution_count": 11,
   "metadata": {},
   "outputs": [
    {
     "name": "stdout",
     "output_type": "stream",
     "text": [
      "[22:47:11] WARNING: C:/Jenkins/workspace/xgboost-win64_release_0.90/src/objective/regression_obj.cu:152: reg:linear is now deprecated in favor of reg:squarederror.\n",
      "[22:47:11] WARNING: C:\\Jenkins\\workspace\\xgboost-win64_release_0.90\\src\\learner.cc:686: Tree method is automatically selected to be 'approx' for faster speed. To use old behavior (exact greedy algorithm on single machine), set tree_method to 'exact'.\n",
      "[0]\tvalidation_0-rmse:1.12359\tvalidation_1-rmse:1.11768\n",
      "Multiple eval metrics have been passed: 'validation_1-rmse' will be used for early stopping.\n",
      "\n",
      "Will train until validation_1-rmse hasn't improved in 10 rounds.\n",
      "[1]\tvalidation_0-rmse:1.08838\tvalidation_1-rmse:1.08626\n",
      "[2]\tvalidation_0-rmse:1.05437\tvalidation_1-rmse:1.05486\n",
      "[3]\tvalidation_0-rmse:1.0111\tvalidation_1-rmse:1.02801\n",
      "[4]\tvalidation_0-rmse:0.983205\tvalidation_1-rmse:1.00837\n",
      "[5]\tvalidation_0-rmse:0.959986\tvalidation_1-rmse:0.98946\n",
      "[6]\tvalidation_0-rmse:0.940497\tvalidation_1-rmse:0.973981\n",
      "[7]\tvalidation_0-rmse:0.920828\tvalidation_1-rmse:0.960808\n",
      "[8]\tvalidation_0-rmse:0.905788\tvalidation_1-rmse:0.949506\n",
      "[9]\tvalidation_0-rmse:0.893782\tvalidation_1-rmse:0.941051\n",
      "[10]\tvalidation_0-rmse:0.883106\tvalidation_1-rmse:0.934198\n",
      "[11]\tvalidation_0-rmse:0.874146\tvalidation_1-rmse:0.928514\n",
      "[12]\tvalidation_0-rmse:0.866051\tvalidation_1-rmse:0.923215\n",
      "[13]\tvalidation_0-rmse:0.859819\tvalidation_1-rmse:0.91898\n",
      "[14]\tvalidation_0-rmse:0.854644\tvalidation_1-rmse:0.915966\n",
      "[15]\tvalidation_0-rmse:0.84893\tvalidation_1-rmse:0.913941\n",
      "[16]\tvalidation_0-rmse:0.844873\tvalidation_1-rmse:0.912006\n",
      "[17]\tvalidation_0-rmse:0.84127\tvalidation_1-rmse:0.910075\n",
      "[18]\tvalidation_0-rmse:0.837795\tvalidation_1-rmse:0.907805\n",
      "[19]\tvalidation_0-rmse:0.834803\tvalidation_1-rmse:0.906486\n",
      "[20]\tvalidation_0-rmse:0.832591\tvalidation_1-rmse:0.904543\n",
      "[21]\tvalidation_0-rmse:0.830042\tvalidation_1-rmse:0.904105\n",
      "[22]\tvalidation_0-rmse:0.828109\tvalidation_1-rmse:0.903355\n",
      "[23]\tvalidation_0-rmse:0.825856\tvalidation_1-rmse:0.901997\n",
      "[24]\tvalidation_0-rmse:0.824109\tvalidation_1-rmse:0.901595\n",
      "[25]\tvalidation_0-rmse:0.82262\tvalidation_1-rmse:0.901059\n",
      "[26]\tvalidation_0-rmse:0.821322\tvalidation_1-rmse:0.900605\n",
      "[27]\tvalidation_0-rmse:0.819854\tvalidation_1-rmse:0.899714\n",
      "[28]\tvalidation_0-rmse:0.818283\tvalidation_1-rmse:0.899583\n",
      "[29]\tvalidation_0-rmse:0.816503\tvalidation_1-rmse:0.898987\n",
      "[30]\tvalidation_0-rmse:0.815523\tvalidation_1-rmse:0.898789\n",
      "[31]\tvalidation_0-rmse:0.814418\tvalidation_1-rmse:0.898079\n",
      "[32]\tvalidation_0-rmse:0.813124\tvalidation_1-rmse:0.897985\n",
      "[33]\tvalidation_0-rmse:0.811962\tvalidation_1-rmse:0.89773\n",
      "[34]\tvalidation_0-rmse:0.811091\tvalidation_1-rmse:0.897609\n",
      "[35]\tvalidation_0-rmse:0.810316\tvalidation_1-rmse:0.898028\n",
      "[36]\tvalidation_0-rmse:0.809422\tvalidation_1-rmse:0.898226\n",
      "[37]\tvalidation_0-rmse:0.808448\tvalidation_1-rmse:0.898355\n",
      "[38]\tvalidation_0-rmse:0.807523\tvalidation_1-rmse:0.898566\n",
      "[39]\tvalidation_0-rmse:0.806805\tvalidation_1-rmse:0.898467\n",
      "[40]\tvalidation_0-rmse:0.806006\tvalidation_1-rmse:0.898482\n",
      "[41]\tvalidation_0-rmse:0.805457\tvalidation_1-rmse:0.898325\n",
      "[42]\tvalidation_0-rmse:0.804591\tvalidation_1-rmse:0.897789\n",
      "[43]\tvalidation_0-rmse:0.803982\tvalidation_1-rmse:0.897964\n",
      "[44]\tvalidation_0-rmse:0.803477\tvalidation_1-rmse:0.897535\n"
     ]
    },
    {
     "data": {
      "text/plain": [
       "\"\\n\\n\\n\\nmodel1_train = xgb.predict(X_train)\\nmodel1_valid = xgb.predict(X_valid)\\nmodel1_test = xgb.predict(X_test)\\n\\n\\ndel xgb\\ngc.collect();\\n\\n#base model-2\\nsvr_model= SVR(kernel='rbf', degree=10, verbose=True, max_iter = 50)\\n\\nsvr_model.fit(X_train, Y_train)\\nmodel2_train = svr_model.predict(X_train)\\nmodel2_valid = svr_model.predict(X_valid)\\nmodel2_test = svr_model.predict(X_test)\\n\\n\\n\\ndel svr_model\\ngc.collect();\\n\\n#base model-3\\nfrom sklearn.linear_model import Lasso\\nlasso = Lasso(alpha=0.05, max_iter=100)\\nlasso.fit(X_train, Y_train)\\nmodel3_train = lasso.predict(X_train)\\nmodel3_valid = lasso.predict(X_valid)\\nmodel3_test = lasso.predict(X_test)\\n\\n\\ndel lasso\\ngc.collect();\\n\\n#stacking\\nbase_predictions_train = pd.DataFrame( {'XGBoost': model1_train.ravel(),\\n     'SVR model': model2_train.ravel(),\\n     'lasso': model3_train.ravel()\\n     #'SVM': model4_train.ravel()\\n    })\\nbase_predictions_test = pd.DataFrame( {'XGBoost': model1_test.ravel(),\\n     'SVR model': model2_test.ravel(),\\n     'lasso': model3_test.ravel()\\n     #'SVM': model4_test.ravel()\\n    })\\n\\nbase_predictions_valid = pd.DataFrame( {'XGBoost': model1_valid.ravel(),\\n     'SVR model': model2_valid.ravel(),\\n     'lasso': model3_valid.ravel()\\n     #'SVM': model4_valid.ravel()\\n    })\\n\\nX_new_train = base_predictions_train.as_matrix()\\nX_new_valid = base_predictions_valid.as_matrix()\\nX_new_test = base_predictions_test.as_matrix()\\nbase_predictions_train.head()\\n\\n#heatmap to see correlation between different predictions\\nsns.heatmap(base_predictions_train.astype(float).corr(),\\n            linewidths=0.1,vmax=1.0, square=True, linecolor='white', annot=True)\\n\""
      ]
     },
     "execution_count": 11,
     "metadata": {},
     "output_type": "execute_result"
    },
    {
     "data": {
      "image/png": "[encoded data removed]",
      "text/plain": [
       "<Figure size 720x2160 with 1 Axes>"
      ]
     },
     "metadata": {
      "needs_background": "light"
     },
     "output_type": "display_data"
    }
   ],
   "source": [
    "#base model-1\n",
    "\n",
    "xgb = XGBRegressor(\n",
    "    max_depth=8,\n",
    "    n_estimators=45,\n",
    "    min_child_weight=300, \n",
    "    colsample_bytree=0.9, \n",
    "    subsample=0.8, \n",
    "    eta=0.3,    \n",
    "    seed=4)\n",
    "\n",
    "xgb.fit(X_train, Y_train, eval_set=[(X_train, Y_train), (X_valid, Y_valid)],\n",
    "        eval_metric = 'rmse', early_stopping_rounds =10,verbose=True)\n",
    "\n",
    "predict(xgb,'xgb')\n",
    "\n",
    "plot_features(xgb, (10,30))\n",
    "\n",
    "'''\n",
    "\n",
    "\n",
    "\n",
    "model1_train = xgb.predict(X_train)\n",
    "model1_valid = xgb.predict(X_valid)\n",
    "model1_test = xgb.predict(X_test)\n",
    "\n",
    "\n",
    "del xgb\n",
    "gc.collect();\n",
    "\n",
    "#base model-2\n",
    "svr_model= SVR(kernel='rbf', degree=10, verbose=True, max_iter = 50)\n",
    "\n",
    "svr_model.fit(X_train, Y_train)\n",
    "model2_train = svr_model.predict(X_train)\n",
    "model2_valid = svr_model.predict(X_valid)\n",
    "model2_test = svr_model.predict(X_test)\n",
    "\n",
    "\n",
    "\n",
    "del svr_model\n",
    "gc.collect();\n",
    "\n",
    "#base model-3\n",
    "from sklearn.linear_model import Lasso\n",
    "lasso = Lasso(alpha=0.05, max_iter=100)\n",
    "lasso.fit(X_train, Y_train)\n",
    "model3_train = lasso.predict(X_train)\n",
    "model3_valid = lasso.predict(X_valid)\n",
    "model3_test = lasso.predict(X_test)\n",
    "\n",
    "\n",
    "del lasso\n",
    "gc.collect();\n",
    "\n",
    "#stacking\n",
    "base_predictions_train = pd.DataFrame( {'XGBoost': model1_train.ravel(),\n",
    "     'SVR model': model2_train.ravel(),\n",
    "     'lasso': model3_train.ravel()\n",
    "     #'SVM': model4_train.ravel()\n",
    "    })\n",
    "base_predictions_test = pd.DataFrame( {'XGBoost': model1_test.ravel(),\n",
    "     'SVR model': model2_test.ravel(),\n",
    "     'lasso': model3_test.ravel()\n",
    "     #'SVM': model4_test.ravel()\n",
    "    })\n",
    "\n",
    "base_predictions_valid = pd.DataFrame( {'XGBoost': model1_valid.ravel(),\n",
    "     'SVR model': model2_valid.ravel(),\n",
    "     'lasso': model3_valid.ravel()\n",
    "     #'SVM': model4_valid.ravel()\n",
    "    })\n",
    "\n",
    "X_new_train = base_predictions_train.as_matrix()\n",
    "X_new_valid = base_predictions_valid.as_matrix()\n",
    "X_new_test = base_predictions_test.as_matrix()\n",
    "base_predictions_train.head()\n",
    "\n",
    "#heatmap to see correlation between different predictions\n",
    "sns.heatmap(base_predictions_train.astype(float).corr(),\n",
    "            linewidths=0.1,vmax=1.0, square=True, linecolor='white', annot=True)\n",
    "'''"
   ]
  },
  {
   "cell_type": "code",
   "execution_count": 12,
   "metadata": {},
   "outputs": [
    {
     "data": {
      "text/plain": [
       "'\\n# META Model\\nlm = LinearRegression()\\nlm.fit(X_new_train,Y_train)\\ny_valid_pred = lm.predict(X_new_valid)\\nplt.plot(y_valid_pred, \\'.\\', Y_valid, \\'x\\')\\n#y_test_pred = lm.predict(X_new_test)\\n\\nY_test = lm.predict(X_new_test).clip(0., 20.)\\nresults = X_test.loc[:,[\\'shop_id\\', \\'item_id\\']]\\nresults[\\'prediction\\'] = Y_test\\nif len(test.columns)==3:\\n    test.drop(\\'ID\\',axis=1,inplace=True)\\nsub = pd.merge(test, results, on = [\\'shop_id\\', \\'item_id\\'], how=\\'left\\')\\nsubmission = pd.DataFrame({\\n    \"ID\": test.index, \\n    \"item_cnt_month\": sub[\\'prediction\\']\\n})\\nsubmission.to_csv(\\'stack_submission.csv\\', index=False)\\n'"
      ]
     },
     "execution_count": 12,
     "metadata": {},
     "output_type": "execute_result"
    }
   ],
   "source": [
    "'''\n",
    "# META Model\n",
    "lm = LinearRegression()\n",
    "lm.fit(X_new_train,Y_train)\n",
    "y_valid_pred = lm.predict(X_new_valid)\n",
    "plt.plot(y_valid_pred, '.', Y_valid, 'x')\n",
    "#y_test_pred = lm.predict(X_new_test)\n",
    "\n",
    "Y_test = lm.predict(X_new_test).clip(0., 20.)\n",
    "results = X_test.loc[:,['shop_id', 'item_id']]\n",
    "results['prediction'] = Y_test\n",
    "if len(test.columns)==3:\n",
    "    test.drop('ID',axis=1,inplace=True)\n",
    "sub = pd.merge(test, results, on = ['shop_id', 'item_id'], how='left')\n",
    "submission = pd.DataFrame({\n",
    "    \"ID\": test.index, \n",
    "    \"item_cnt_month\": sub['prediction']\n",
    "})\n",
    "submission.to_csv('stack_submission.csv', index=False)\n",
    "'''"
   ]
  },
  {
   "cell_type": "code",
   "execution_count": 13,
   "metadata": {},
   "outputs": [
    {
     "data": {
      "text/plain": [
       "\"\\nfrom catboost import CatBoostRegressor\\n\\nmodel = CatBoostRegressor(\\n    random_seed=63,\\n    iterations=200,\\n    learning_rate=0.12,\\n    depth=4,\\n    loss_function='RMSE',\\n    rsm = 0.85,\\n    od_type='Iter',\\n    od_wait=20,\\n)\\nmodel.fit(\\n    X_train, Y_train,\\n    logging_level='Silent',\\n    eval_set=(X_valid, Y_valid),\\n    plot=True\\n)\\n\\nimportances = model.get_feature_importance(prettified=True)\\nfeature_labels = []\\nfeature_value = []\\nfor i in range(0,len(importances)):\\n    feature_labels.append(importances[i][0])\\n    feature_value.append(importances[i][1])\\n    \\nfig, ax = plt.subplots(1,1,figsize=(10,20))\\nsns.barplot(y = feature_labels,  x=feature_value, ax=ax)\\n\\npredict(model,'catboost')\\n\""
      ]
     },
     "execution_count": 13,
     "metadata": {},
     "output_type": "execute_result"
    }
   ],
   "source": [
    "'''\n",
    "from catboost import CatBoostRegressor\n",
    "\n",
    "model = CatBoostRegressor(\n",
    "    random_seed=63,\n",
    "    iterations=200,\n",
    "    learning_rate=0.12,\n",
    "    depth=4,\n",
    "    loss_function='RMSE',\n",
    "    rsm = 0.85,\n",
    "    od_type='Iter',\n",
    "    od_wait=20,\n",
    ")\n",
    "model.fit(\n",
    "    X_train, Y_train,\n",
    "    logging_level='Silent',\n",
    "    eval_set=(X_valid, Y_valid),\n",
    "    plot=True\n",
    ")\n",
    "\n",
    "importances = model.get_feature_importance(prettified=True)\n",
    "feature_labels = []\n",
    "feature_value = []\n",
    "for i in range(0,len(importances)):\n",
    "    feature_labels.append(importances[i][0])\n",
    "    feature_value.append(importances[i][1])\n",
    "    \n",
    "fig, ax = plt.subplots(1,1,figsize=(10,20))\n",
    "sns.barplot(y = feature_labels,  x=feature_value, ax=ax)\n",
    "\n",
    "predict(model,'catboost')\n",
    "'''"
   ]
  }
 ],
 "metadata": {
  "kernelspec": {
   "display_name": "Python 3",
   "language": "python",
   "name": "python3"
  },
  "language_info": {
   "codemirror_mode": {
    "name": "ipython",
    "version": 3
   },
   "file_extension": ".py",
   "mimetype": "text/x-python",
   "name": "python",
   "nbconvert_exporter": "python",
   "pygments_lexer": "ipython3",
   "version": "3.7.4"
  }
 },
 "nbformat": 4,
 "nbformat_minor": 1
}
