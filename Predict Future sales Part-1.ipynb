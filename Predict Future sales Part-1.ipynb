{
 "cells": [
  {
   "cell_type": "markdown",
   "metadata": {},
   "source": [
    "# Pipeline\n",
    "* load data\n",
    "* heal data and remove outliers\n",
    "* making data for item_details which contains all information about all items\n",
    "* create matrix as product of item/shop pairs within each month in the train set\n",
    "* get monthly sales for each item/shop pair in the train set and merge it to the matrix\n",
    "* clip item_cnt_month by (0,20)\n",
    "* append test to the matrix, fill 34 month nans with zeros\n",
    "* make column for item_prices and fill it entirely\n",
    "* merge shops/items/cats to the matrix\n",
    "* add target lag features\n",
    "* add months since last sale/months since first sale features\n",
    "* add lag variables based on item_prices\n",
    "* add price lag features\n",
    "* add month\n",
    "* add days\n",
    "* cut first year and drop columns which can not be calculated for the test set\n",
    "* add mean encoded features\n",
    "* select best features\n",
    "* set validation strategy 34 test, 33 validation, less than 33 train\n",
    "* fit the model, predict and clip targets for the test set"
   ]
  },
  {
   "cell_type": "code",
   "execution_count": 1,
   "metadata": {
    "_cell_guid": "b1076dfc-b9ad-4769-8c92-a6c4dae69d19",
    "_uuid": "8f2839f25d086af736a60e9eeb907d3b93b6e0e5"
   },
   "outputs": [
    {
     "name": "stdout",
     "output_type": "stream",
     "text": [
      "['.ipynb_checkpoints', 'competitive-data-science-predict-future-sales.zip', 'items.csv', 'item_categories.csv', 'Predict Future sales Part-1.ipynb', 'Predict Future Sales-Part 2.ipynb', 'sales_train.csv.gz', 'sales_train_v2.csv', 'sample_submission.csv', 'sample_submission.csv.gz', 'shops.csv', 'test.csv', 'test.csv.gz']\n"
     ]
    }
   ],
   "source": [
    "import warnings\n",
    "warnings.filterwarnings('ignore')\n",
    "import gc\n",
    "import pickle\n",
    "import numpy as np \n",
    "import pandas as pd\n",
    "import matplotlib.pyplot as plt\n",
    "import seaborn as sns\n",
    "import math\n",
    "from itertools import product\n",
    "from sklearn.model_selection import train_test_split, GridSearchCV\n",
    "from sklearn.preprocessing import StandardScaler, RobustScaler\n",
    "from xgboost import XGBRegressor\n",
    "import matplotlib.pyplot as plt\n",
    "import seaborn as sns\n",
    "from xgboost import plot_importance\n",
    "from matplotlib.pyplot import figure\n",
    "def plot_features(booster, figsize):    \n",
    "    fig, ax = plt.subplots(1,1,figsize=figsize)\n",
    "    return plot_importance(booster=booster, ax=ax)\n",
    "import os\n",
    "print(os.listdir())\n",
    "\n",
    "# Any results you write to the current directory are saved as output."
   ]
  },
  {
   "cell_type": "code",
   "execution_count": 2,
   "metadata": {},
   "outputs": [],
   "source": [
    "#Defining function which helps to reduce size of dataframes, so that kernel does not die\n",
    "def reduce_size(df):\n",
    "    float_cols = [c for c in df if df[c].dtype == \"float64\"]\n",
    "    int_cols = [c for c in df if df[c].dtype in [\"int64\", \"int32\"]]\n",
    "    df[float_cols] = df[float_cols].astype(np.float32)\n",
    "    df[int_cols] = df[int_cols].astype(np.int16)\n",
    "    return df"
   ]
  },
  {
   "cell_type": "code",
   "execution_count": 3,
   "metadata": {},
   "outputs": [],
   "source": [
    "#Loading given dataframes\n",
    "shops = pd.read_csv(\"shops.csv\")\n",
    "item_categories = pd.read_csv(\"item_categories.csv\")\n",
    "sales_train = pd.read_csv(\"sales_train_v2.csv\")\n",
    "items = pd.read_csv(\"items.csv\")\n",
    "test = pd.read_csv(\"test.csv\")"
   ]
  },
  {
   "cell_type": "markdown",
   "metadata": {},
   "source": [
    "# Preliminary Analysis"
   ]
  },
  {
   "cell_type": "markdown",
   "metadata": {},
   "source": [
    "One important pre-liminary analysis is to check for duplicated rows in train and test set, if present remove them."
   ]
  },
  {
   "cell_type": "code",
   "execution_count": 4,
   "metadata": {},
   "outputs": [
    {
     "data": {
      "text/html": [
       "<div>\n",
       "<style scoped>\n",
       "    .dataframe tbody tr th:only-of-type {\n",
       "        vertical-align: middle;\n",
       "    }\n",
       "\n",
       "    .dataframe tbody tr th {\n",
       "        vertical-align: top;\n",
       "    }\n",
       "\n",
       "    .dataframe thead th {\n",
       "        text-align: right;\n",
       "    }\n",
       "</style>\n",
       "<table border=\"1\" class=\"dataframe\">\n",
       "  <thead>\n",
       "    <tr style=\"text-align: right;\">\n",
       "      <th></th>\n",
       "      <th>date</th>\n",
       "      <th>date_block_num</th>\n",
       "      <th>shop_id</th>\n",
       "      <th>item_id</th>\n",
       "      <th>item_price</th>\n",
       "      <th>item_cnt_day</th>\n",
       "    </tr>\n",
       "  </thead>\n",
       "  <tbody>\n",
       "    <tr>\n",
       "      <td>76962</td>\n",
       "      <td>05.01.2013</td>\n",
       "      <td>0</td>\n",
       "      <td>54</td>\n",
       "      <td>20130</td>\n",
       "      <td>149.0</td>\n",
       "      <td>1.0</td>\n",
       "    </tr>\n",
       "    <tr>\n",
       "      <td>1435367</td>\n",
       "      <td>23.02.2014</td>\n",
       "      <td>13</td>\n",
       "      <td>50</td>\n",
       "      <td>3423</td>\n",
       "      <td>999.0</td>\n",
       "      <td>1.0</td>\n",
       "    </tr>\n",
       "    <tr>\n",
       "      <td>1496766</td>\n",
       "      <td>23.03.2014</td>\n",
       "      <td>14</td>\n",
       "      <td>21</td>\n",
       "      <td>3423</td>\n",
       "      <td>999.0</td>\n",
       "      <td>1.0</td>\n",
       "    </tr>\n",
       "    <tr>\n",
       "      <td>1671873</td>\n",
       "      <td>01.05.2014</td>\n",
       "      <td>16</td>\n",
       "      <td>50</td>\n",
       "      <td>3423</td>\n",
       "      <td>999.0</td>\n",
       "      <td>1.0</td>\n",
       "    </tr>\n",
       "    <tr>\n",
       "      <td>1866340</td>\n",
       "      <td>12.07.2014</td>\n",
       "      <td>18</td>\n",
       "      <td>25</td>\n",
       "      <td>3423</td>\n",
       "      <td>999.0</td>\n",
       "      <td>1.0</td>\n",
       "    </tr>\n",
       "    <tr>\n",
       "      <td>2198566</td>\n",
       "      <td>31.12.2014</td>\n",
       "      <td>23</td>\n",
       "      <td>42</td>\n",
       "      <td>21619</td>\n",
       "      <td>499.0</td>\n",
       "      <td>1.0</td>\n",
       "    </tr>\n",
       "  </tbody>\n",
       "</table>\n",
       "</div>"
      ],
      "text/plain": [
       "               date  date_block_num  shop_id  item_id  item_price  \\\n",
       "76962    05.01.2013               0       54    20130       149.0   \n",
       "1435367  23.02.2014              13       50     3423       999.0   \n",
       "1496766  23.03.2014              14       21     3423       999.0   \n",
       "1671873  01.05.2014              16       50     3423       999.0   \n",
       "1866340  12.07.2014              18       25     3423       999.0   \n",
       "2198566  31.12.2014              23       42    21619       499.0   \n",
       "\n",
       "         item_cnt_day  \n",
       "76962             1.0  \n",
       "1435367           1.0  \n",
       "1496766           1.0  \n",
       "1671873           1.0  \n",
       "1866340           1.0  \n",
       "2198566           1.0  "
      ]
     },
     "execution_count": 4,
     "metadata": {},
     "output_type": "execute_result"
    }
   ],
   "source": [
    "# Check duplicated rows in train set\n",
    "df = sales_train[sales_train.duplicated()]  # checks duplicate rows considering all columns\n",
    "df"
   ]
  },
  {
   "cell_type": "markdown",
   "metadata": {},
   "source": [
    "Above dataframe shows that there are 6 different rows which are occurring >1 times."
   ]
  },
  {
   "cell_type": "code",
   "execution_count": 5,
   "metadata": {},
   "outputs": [
    {
     "data": {
      "text/html": [
       "<div>\n",
       "<style scoped>\n",
       "    .dataframe tbody tr th:only-of-type {\n",
       "        vertical-align: middle;\n",
       "    }\n",
       "\n",
       "    .dataframe tbody tr th {\n",
       "        vertical-align: top;\n",
       "    }\n",
       "\n",
       "    .dataframe thead th {\n",
       "        text-align: right;\n",
       "    }\n",
       "</style>\n",
       "<table border=\"1\" class=\"dataframe\">\n",
       "  <thead>\n",
       "    <tr style=\"text-align: right;\">\n",
       "      <th></th>\n",
       "      <th>date</th>\n",
       "      <th>date_block_num</th>\n",
       "      <th>shop_id</th>\n",
       "      <th>item_id</th>\n",
       "      <th>item_price</th>\n",
       "      <th>item_cnt_day</th>\n",
       "    </tr>\n",
       "  </thead>\n",
       "  <tbody>\n",
       "    <tr>\n",
       "      <td>76962</td>\n",
       "      <td>05.01.2013</td>\n",
       "      <td>0</td>\n",
       "      <td>54</td>\n",
       "      <td>20130</td>\n",
       "      <td>149.0</td>\n",
       "      <td>1.0</td>\n",
       "    </tr>\n",
       "  </tbody>\n",
       "</table>\n",
       "</div>"
      ],
      "text/plain": [
       "             date  date_block_num  shop_id  item_id  item_price  item_cnt_day\n",
       "76962  05.01.2013               0       54    20130       149.0           1.0"
      ]
     },
     "execution_count": 5,
     "metadata": {},
     "output_type": "execute_result"
    }
   ],
   "source": [
    "# to check how many times 1st row of above df is repeating\n",
    "df.head(1)"
   ]
  },
  {
   "cell_type": "code",
   "execution_count": 6,
   "metadata": {},
   "outputs": [],
   "source": [
    "#deleting df as it is not required elsewhere, it helps to reduce size of kernel\n",
    "del df\n",
    "gc.collect();"
   ]
  },
  {
   "cell_type": "code",
   "execution_count": 7,
   "metadata": {},
   "outputs": [
    {
     "data": {
      "text/html": [
       "<div>\n",
       "<style scoped>\n",
       "    .dataframe tbody tr th:only-of-type {\n",
       "        vertical-align: middle;\n",
       "    }\n",
       "\n",
       "    .dataframe tbody tr th {\n",
       "        vertical-align: top;\n",
       "    }\n",
       "\n",
       "    .dataframe thead th {\n",
       "        text-align: right;\n",
       "    }\n",
       "</style>\n",
       "<table border=\"1\" class=\"dataframe\">\n",
       "  <thead>\n",
       "    <tr style=\"text-align: right;\">\n",
       "      <th></th>\n",
       "      <th>date</th>\n",
       "      <th>date_block_num</th>\n",
       "      <th>shop_id</th>\n",
       "      <th>item_id</th>\n",
       "      <th>item_price</th>\n",
       "      <th>item_cnt_day</th>\n",
       "    </tr>\n",
       "  </thead>\n",
       "  <tbody>\n",
       "    <tr>\n",
       "      <td>76961</td>\n",
       "      <td>05.01.2013</td>\n",
       "      <td>0</td>\n",
       "      <td>54</td>\n",
       "      <td>20130</td>\n",
       "      <td>149.0</td>\n",
       "      <td>1.0</td>\n",
       "    </tr>\n",
       "    <tr>\n",
       "      <td>76962</td>\n",
       "      <td>05.01.2013</td>\n",
       "      <td>0</td>\n",
       "      <td>54</td>\n",
       "      <td>20130</td>\n",
       "      <td>149.0</td>\n",
       "      <td>1.0</td>\n",
       "    </tr>\n",
       "  </tbody>\n",
       "</table>\n",
       "</div>"
      ],
      "text/plain": [
       "             date  date_block_num  shop_id  item_id  item_price  item_cnt_day\n",
       "76961  05.01.2013               0       54    20130       149.0           1.0\n",
       "76962  05.01.2013               0       54    20130       149.0           1.0"
      ]
     },
     "execution_count": 7,
     "metadata": {},
     "output_type": "execute_result"
    }
   ],
   "source": [
    "sales_train[(sales_train.date == \"05.01.2013\") & (sales_train.item_id==20130) & (sales_train.shop_id==54)]"
   ]
  },
  {
   "cell_type": "markdown",
   "metadata": {},
   "source": [
    "It is repeating 2 times. We need to remove all such repetitions keeping only 1 of such occurence."
   ]
  },
  {
   "cell_type": "code",
   "execution_count": 8,
   "metadata": {},
   "outputs": [],
   "source": [
    "#Dropping duplicates and keeping first occurence only\n",
    "sales_train.drop_duplicates(keep = 'first', inplace = True) # keep: keeps first occurence as original, removes rest"
   ]
  },
  {
   "cell_type": "markdown",
   "metadata": {},
   "source": [
    "Test set has no duplicates(checked but not shown here)."
   ]
  },
  {
   "cell_type": "code",
   "execution_count": 9,
   "metadata": {},
   "outputs": [
    {
     "data": {
      "text/html": [
       "<div>\n",
       "<style scoped>\n",
       "    .dataframe tbody tr th:only-of-type {\n",
       "        vertical-align: middle;\n",
       "    }\n",
       "\n",
       "    .dataframe tbody tr th {\n",
       "        vertical-align: top;\n",
       "    }\n",
       "\n",
       "    .dataframe thead th {\n",
       "        text-align: right;\n",
       "    }\n",
       "</style>\n",
       "<table border=\"1\" class=\"dataframe\">\n",
       "  <thead>\n",
       "    <tr style=\"text-align: right;\">\n",
       "      <th></th>\n",
       "      <th>item_name</th>\n",
       "      <th>item_id</th>\n",
       "      <th>item_category_id</th>\n",
       "    </tr>\n",
       "  </thead>\n",
       "  <tbody>\n",
       "    <tr>\n",
       "      <td>0</td>\n",
       "      <td>! ВО ВЛАСТИ НАВАЖДЕНИЯ (ПЛАСТ.)         D</td>\n",
       "      <td>0</td>\n",
       "      <td>40</td>\n",
       "    </tr>\n",
       "    <tr>\n",
       "      <td>1</td>\n",
       "      <td>!ABBYY FineReader 12 Professional Edition Full...</td>\n",
       "      <td>1</td>\n",
       "      <td>76</td>\n",
       "    </tr>\n",
       "    <tr>\n",
       "      <td>2</td>\n",
       "      <td>***В ЛУЧАХ СЛАВЫ   (UNV)                    D</td>\n",
       "      <td>2</td>\n",
       "      <td>40</td>\n",
       "    </tr>\n",
       "    <tr>\n",
       "      <td>3</td>\n",
       "      <td>***ГОЛУБАЯ ВОЛНА  (Univ)                      D</td>\n",
       "      <td>3</td>\n",
       "      <td>40</td>\n",
       "    </tr>\n",
       "    <tr>\n",
       "      <td>4</td>\n",
       "      <td>***КОРОБКА (СТЕКЛО)                       D</td>\n",
       "      <td>4</td>\n",
       "      <td>40</td>\n",
       "    </tr>\n",
       "  </tbody>\n",
       "</table>\n",
       "</div>"
      ],
      "text/plain": [
       "                                           item_name  item_id  \\\n",
       "0          ! ВО ВЛАСТИ НАВАЖДЕНИЯ (ПЛАСТ.)         D        0   \n",
       "1  !ABBYY FineReader 12 Professional Edition Full...        1   \n",
       "2      ***В ЛУЧАХ СЛАВЫ   (UNV)                    D        2   \n",
       "3    ***ГОЛУБАЯ ВОЛНА  (Univ)                      D        3   \n",
       "4        ***КОРОБКА (СТЕКЛО)                       D        4   \n",
       "\n",
       "   item_category_id  \n",
       "0                40  \n",
       "1                76  \n",
       "2                40  \n",
       "3                40  \n",
       "4                40  "
      ]
     },
     "execution_count": 9,
     "metadata": {},
     "output_type": "execute_result"
    }
   ],
   "source": [
    "items.head()"
   ]
  },
  {
   "cell_type": "markdown",
   "metadata": {},
   "source": [
    "Now for each item, we maintain record of its price by taking mean of each item from data."
   ]
  },
  {
   "cell_type": "code",
   "execution_count": 10,
   "metadata": {},
   "outputs": [
    {
     "name": "stdout",
     "output_type": "stream",
     "text": [
      "   item_id  item_price  item_category_id\n",
      "0        0        58.0                40\n",
      "1        1      4490.0                76\n",
      "2        2        58.0                40\n",
      "3        3        79.0                40\n",
      "4        4        58.0                40\n"
     ]
    }
   ],
   "source": [
    "\n",
    "item_prices = sales_train.groupby('item_id').agg({'item_price':'mean'}).reset_index()\n",
    "item_prices = pd.merge(item_prices, items, on = ['item_id'],how = 'left').drop('item_name',axis=1)\n",
    "print(item_prices.head())"
   ]
  },
  {
   "cell_type": "markdown",
   "metadata": {},
   "source": [
    "Checking total number of distinct shops in train and test set to check uniqueness."
   ]
  },
  {
   "cell_type": "code",
   "execution_count": 11,
   "metadata": {},
   "outputs": [
    {
     "name": "stdout",
     "output_type": "stream",
     "text": [
      "0\n",
      "total distinct shops in train set:  60\n",
      "total distinct shops in test set:  42\n",
      "Number of shops present in test set but not in train set:  0\n"
     ]
    }
   ],
   "source": [
    "a = sales_train.shop_id.unique()\n",
    "b = test.shop_id.unique()\n",
    "l=0\n",
    "for i in b:\n",
    "    if i not in a:\n",
    "        l = l +1\n",
    "print(l)\n",
    "print(\"total distinct shops in train set: \",len(a))\n",
    "print(\"total distinct shops in test set: \",len(b))\n",
    "print(\"Number of shops present in test set but not in train set: \", l)"
   ]
  },
  {
   "cell_type": "markdown",
   "metadata": {},
   "source": [
    "Similar for items"
   ]
  },
  {
   "cell_type": "code",
   "execution_count": 12,
   "metadata": {},
   "outputs": [
    {
     "name": "stdout",
     "output_type": "stream",
     "text": [
      "total distinct items in train set:  21807\n",
      "total distinct items in test set:  5100\n",
      "Number of distinct items present in test set but not in train set:  363\n"
     ]
    }
   ],
   "source": [
    "a = sales_train.item_id.unique()\n",
    "b = test.item_id.unique()\n",
    "l=0\n",
    "for i in b:\n",
    "    if i not in a:\n",
    "        l = l +1\n",
    "print(\"total distinct items in train set: \",len(a))\n",
    "print(\"total distinct items in test set: \",len(b))\n",
    "print(\"Number of distinct items present in test set but not in train set: \", l)\n",
    "\n",
    "del a \n",
    "del b\n",
    "gc.collect();"
   ]
  },
  {
   "cell_type": "code",
   "execution_count": 13,
   "metadata": {},
   "outputs": [
    {
     "data": {
      "text/html": [
       "<div>\n",
       "<style scoped>\n",
       "    .dataframe tbody tr th:only-of-type {\n",
       "        vertical-align: middle;\n",
       "    }\n",
       "\n",
       "    .dataframe tbody tr th {\n",
       "        vertical-align: top;\n",
       "    }\n",
       "\n",
       "    .dataframe thead th {\n",
       "        text-align: right;\n",
       "    }\n",
       "</style>\n",
       "<table border=\"1\" class=\"dataframe\">\n",
       "  <thead>\n",
       "    <tr style=\"text-align: right;\">\n",
       "      <th></th>\n",
       "      <th>item_category_name</th>\n",
       "      <th>item_category_id</th>\n",
       "    </tr>\n",
       "  </thead>\n",
       "  <tbody>\n",
       "    <tr>\n",
       "      <td>0</td>\n",
       "      <td>PC - Гарнитуры/Наушники</td>\n",
       "      <td>0</td>\n",
       "    </tr>\n",
       "    <tr>\n",
       "      <td>1</td>\n",
       "      <td>Аксессуары - PS2</td>\n",
       "      <td>1</td>\n",
       "    </tr>\n",
       "    <tr>\n",
       "      <td>2</td>\n",
       "      <td>Аксессуары - PS3</td>\n",
       "      <td>2</td>\n",
       "    </tr>\n",
       "    <tr>\n",
       "      <td>3</td>\n",
       "      <td>Аксессуары - PS4</td>\n",
       "      <td>3</td>\n",
       "    </tr>\n",
       "    <tr>\n",
       "      <td>4</td>\n",
       "      <td>Аксессуары - PSP</td>\n",
       "      <td>4</td>\n",
       "    </tr>\n",
       "  </tbody>\n",
       "</table>\n",
       "</div>"
      ],
      "text/plain": [
       "        item_category_name  item_category_id\n",
       "0  PC - Гарнитуры/Наушники                 0\n",
       "1         Аксессуары - PS2                 1\n",
       "2         Аксессуары - PS3                 2\n",
       "3         Аксессуары - PS4                 3\n",
       "4         Аксессуары - PSP                 4"
      ]
     },
     "execution_count": 13,
     "metadata": {},
     "output_type": "execute_result"
    }
   ],
   "source": [
    "item_categories.head()"
   ]
  },
  {
   "cell_type": "code",
   "execution_count": 14,
   "metadata": {},
   "outputs": [
    {
     "data": {
      "text/html": [
       "<div>\n",
       "<style scoped>\n",
       "    .dataframe tbody tr th:only-of-type {\n",
       "        vertical-align: middle;\n",
       "    }\n",
       "\n",
       "    .dataframe tbody tr th {\n",
       "        vertical-align: top;\n",
       "    }\n",
       "\n",
       "    .dataframe thead th {\n",
       "        text-align: right;\n",
       "    }\n",
       "</style>\n",
       "<table border=\"1\" class=\"dataframe\">\n",
       "  <thead>\n",
       "    <tr style=\"text-align: right;\">\n",
       "      <th></th>\n",
       "      <th>date</th>\n",
       "      <th>date_block_num</th>\n",
       "      <th>shop_id</th>\n",
       "      <th>item_id</th>\n",
       "      <th>item_price</th>\n",
       "      <th>item_cnt_day</th>\n",
       "    </tr>\n",
       "  </thead>\n",
       "  <tbody>\n",
       "    <tr>\n",
       "      <td>0</td>\n",
       "      <td>02.01.2013</td>\n",
       "      <td>0</td>\n",
       "      <td>59</td>\n",
       "      <td>22154</td>\n",
       "      <td>999.00</td>\n",
       "      <td>1.0</td>\n",
       "    </tr>\n",
       "    <tr>\n",
       "      <td>1</td>\n",
       "      <td>03.01.2013</td>\n",
       "      <td>0</td>\n",
       "      <td>25</td>\n",
       "      <td>2552</td>\n",
       "      <td>899.00</td>\n",
       "      <td>1.0</td>\n",
       "    </tr>\n",
       "    <tr>\n",
       "      <td>2</td>\n",
       "      <td>05.01.2013</td>\n",
       "      <td>0</td>\n",
       "      <td>25</td>\n",
       "      <td>2552</td>\n",
       "      <td>899.00</td>\n",
       "      <td>-1.0</td>\n",
       "    </tr>\n",
       "    <tr>\n",
       "      <td>3</td>\n",
       "      <td>06.01.2013</td>\n",
       "      <td>0</td>\n",
       "      <td>25</td>\n",
       "      <td>2554</td>\n",
       "      <td>1709.05</td>\n",
       "      <td>1.0</td>\n",
       "    </tr>\n",
       "    <tr>\n",
       "      <td>4</td>\n",
       "      <td>15.01.2013</td>\n",
       "      <td>0</td>\n",
       "      <td>25</td>\n",
       "      <td>2555</td>\n",
       "      <td>1099.00</td>\n",
       "      <td>1.0</td>\n",
       "    </tr>\n",
       "  </tbody>\n",
       "</table>\n",
       "</div>"
      ],
      "text/plain": [
       "         date  date_block_num  shop_id  item_id  item_price  item_cnt_day\n",
       "0  02.01.2013               0       59    22154      999.00           1.0\n",
       "1  03.01.2013               0       25     2552      899.00           1.0\n",
       "2  05.01.2013               0       25     2552      899.00          -1.0\n",
       "3  06.01.2013               0       25     2554     1709.05           1.0\n",
       "4  15.01.2013               0       25     2555     1099.00           1.0"
      ]
     },
     "execution_count": 14,
     "metadata": {},
     "output_type": "execute_result"
    }
   ],
   "source": [
    "sales_train.head()"
   ]
  },
  {
   "cell_type": "markdown",
   "metadata": {},
   "source": [
    "Making record of item prices for each item which is initially present in training data. This we will later use to merge prices data with all combinations of item X shop, and fill price data of train set."
   ]
  },
  {
   "cell_type": "code",
   "execution_count": 15,
   "metadata": {},
   "outputs": [
    {
     "data": {
      "text/html": [
       "<div>\n",
       "<style scoped>\n",
       "    .dataframe tbody tr th:only-of-type {\n",
       "        vertical-align: middle;\n",
       "    }\n",
       "\n",
       "    .dataframe tbody tr th {\n",
       "        vertical-align: top;\n",
       "    }\n",
       "\n",
       "    .dataframe thead th {\n",
       "        text-align: right;\n",
       "    }\n",
       "</style>\n",
       "<table border=\"1\" class=\"dataframe\">\n",
       "  <thead>\n",
       "    <tr style=\"text-align: right;\">\n",
       "      <th></th>\n",
       "      <th>date_block_num</th>\n",
       "      <th>shop_id</th>\n",
       "      <th>item_id</th>\n",
       "      <th>item_price</th>\n",
       "    </tr>\n",
       "  </thead>\n",
       "  <tbody>\n",
       "    <tr>\n",
       "      <td>0</td>\n",
       "      <td>0</td>\n",
       "      <td>0</td>\n",
       "      <td>32</td>\n",
       "      <td>221.0</td>\n",
       "    </tr>\n",
       "    <tr>\n",
       "      <td>1</td>\n",
       "      <td>0</td>\n",
       "      <td>0</td>\n",
       "      <td>33</td>\n",
       "      <td>347.0</td>\n",
       "    </tr>\n",
       "    <tr>\n",
       "      <td>2</td>\n",
       "      <td>0</td>\n",
       "      <td>0</td>\n",
       "      <td>35</td>\n",
       "      <td>247.0</td>\n",
       "    </tr>\n",
       "    <tr>\n",
       "      <td>3</td>\n",
       "      <td>0</td>\n",
       "      <td>0</td>\n",
       "      <td>43</td>\n",
       "      <td>221.0</td>\n",
       "    </tr>\n",
       "    <tr>\n",
       "      <td>4</td>\n",
       "      <td>0</td>\n",
       "      <td>0</td>\n",
       "      <td>51</td>\n",
       "      <td>128.5</td>\n",
       "    </tr>\n",
       "  </tbody>\n",
       "</table>\n",
       "</div>"
      ],
      "text/plain": [
       "   date_block_num  shop_id  item_id  item_price\n",
       "0               0        0       32       221.0\n",
       "1               0        0       33       347.0\n",
       "2               0        0       35       247.0\n",
       "3               0        0       43       221.0\n",
       "4               0        0       51       128.5"
      ]
     },
     "execution_count": 15,
     "metadata": {},
     "output_type": "execute_result"
    }
   ],
   "source": [
    "item_prices_train_data = sales_train.groupby(['date_block_num','shop_id','item_id']).agg({'item_price':'mean'}).reset_index()\n",
    "item_prices_train_data.head()"
   ]
  },
  {
   "cell_type": "code",
   "execution_count": 16,
   "metadata": {},
   "outputs": [
    {
     "data": {
      "text/html": [
       "<div>\n",
       "<style scoped>\n",
       "    .dataframe tbody tr th:only-of-type {\n",
       "        vertical-align: middle;\n",
       "    }\n",
       "\n",
       "    .dataframe tbody tr th {\n",
       "        vertical-align: top;\n",
       "    }\n",
       "\n",
       "    .dataframe thead th {\n",
       "        text-align: right;\n",
       "    }\n",
       "</style>\n",
       "<table border=\"1\" class=\"dataframe\">\n",
       "  <thead>\n",
       "    <tr style=\"text-align: right;\">\n",
       "      <th></th>\n",
       "      <th>ID</th>\n",
       "      <th>shop_id</th>\n",
       "      <th>item_id</th>\n",
       "    </tr>\n",
       "  </thead>\n",
       "  <tbody>\n",
       "    <tr>\n",
       "      <td>0</td>\n",
       "      <td>0</td>\n",
       "      <td>5</td>\n",
       "      <td>5037</td>\n",
       "    </tr>\n",
       "    <tr>\n",
       "      <td>1</td>\n",
       "      <td>1</td>\n",
       "      <td>5</td>\n",
       "      <td>5320</td>\n",
       "    </tr>\n",
       "    <tr>\n",
       "      <td>2</td>\n",
       "      <td>2</td>\n",
       "      <td>5</td>\n",
       "      <td>5233</td>\n",
       "    </tr>\n",
       "    <tr>\n",
       "      <td>3</td>\n",
       "      <td>3</td>\n",
       "      <td>5</td>\n",
       "      <td>5232</td>\n",
       "    </tr>\n",
       "    <tr>\n",
       "      <td>4</td>\n",
       "      <td>4</td>\n",
       "      <td>5</td>\n",
       "      <td>5268</td>\n",
       "    </tr>\n",
       "  </tbody>\n",
       "</table>\n",
       "</div>"
      ],
      "text/plain": [
       "   ID  shop_id  item_id\n",
       "0   0        5     5037\n",
       "1   1        5     5320\n",
       "2   2        5     5233\n",
       "3   3        5     5232\n",
       "4   4        5     5268"
      ]
     },
     "execution_count": 16,
     "metadata": {},
     "output_type": "execute_result"
    }
   ],
   "source": [
    "test.head()"
   ]
  },
  {
   "cell_type": "code",
   "execution_count": 17,
   "metadata": {},
   "outputs": [
    {
     "name": "stdout",
     "output_type": "stream",
     "text": [
      "Index(['shop_name', 'shop_id'], dtype='object')\n",
      "Index(['item_category_name', 'item_category_id'], dtype='object')\n",
      "Index(['date', 'date_block_num', 'shop_id', 'item_id', 'item_price',\n",
      "       'item_cnt_day'],\n",
      "      dtype='object')\n",
      "Index(['item_name', 'item_id', 'item_category_id'], dtype='object')\n",
      "Index(['ID', 'shop_id', 'item_id'], dtype='object')\n"
     ]
    }
   ],
   "source": [
    "print(shops.columns)\n",
    "print(item_categories.columns)\n",
    "print(sales_train.columns)\n",
    "print(items.columns)\n",
    "print(test.columns)"
   ]
  },
  {
   "cell_type": "code",
   "execution_count": 18,
   "metadata": {},
   "outputs": [
    {
     "name": "stdout",
     "output_type": "stream",
     "text": [
      "max. number of items sold 2169.0 and min are -22.0: \n",
      "start date is 01.01.2013 and end date is 31.12.2014\n"
     ]
    }
   ],
   "source": [
    "# insights\n",
    "print('max. number of items sold {} and min are {}: '.format(sales_train['item_cnt_day'].max(),sales_train['item_cnt_day'].min()))\n",
    "print('start date is {} and end date is {}'.format(sales_train['date'].min(), sales_train['date'].max()))\n",
    "#note max date is actually October, 2015, python is not checking till last row"
   ]
  },
  {
   "cell_type": "code",
   "execution_count": 19,
   "metadata": {},
   "outputs": [
    {
     "data": {
      "text/plain": [
       "<matplotlib.axes._subplots.AxesSubplot at 0x25d051a1788>"
      ]
     },
     "execution_count": 19,
     "metadata": {},
     "output_type": "execute_result"
    },
    {
     "data": {
      "image/png": "[encoded data removed]",
      "text/plain": [
       "<Figure size 720x288 with 1 Axes>"
      ]
     },
     "metadata": {
      "needs_background": "light"
     },
     "output_type": "display_data"
    },
    {
     "data": {
      "image/png": "[encoded data removed]",
      "text/plain": [
       "<Figure size 720x288 with 1 Axes>"
      ]
     },
     "metadata": {
      "needs_background": "light"
     },
     "output_type": "display_data"
    }
   ],
   "source": [
    "#checking the outliers in sales_train\n",
    "plt.figure(figsize=(10,4))\n",
    "plt.xlim(-100, 3000)\n",
    "sns.boxplot(x=sales_train.item_cnt_day)\n",
    "\n",
    "plt.figure(figsize=(10,4))\n",
    "plt.xlim(sales_train.item_price.min(), sales_train.item_price.max()*1.1)\n",
    "sns.boxplot(x=sales_train.item_price)"
   ]
  },
  {
   "cell_type": "code",
   "execution_count": 20,
   "metadata": {},
   "outputs": [],
   "source": [
    "#removing outliers\n",
    "sales_train = sales_train[sales_train.item_price<50000]\n",
    "sales_train = sales_train[sales_train.item_cnt_day<1001]"
   ]
  },
  {
   "cell_type": "code",
   "execution_count": 21,
   "metadata": {},
   "outputs": [
    {
     "name": "stdout",
     "output_type": "stream",
     "text": [
      "1\n"
     ]
    },
    {
     "data": {
      "text/html": [
       "<div>\n",
       "<style scoped>\n",
       "    .dataframe tbody tr th:only-of-type {\n",
       "        vertical-align: middle;\n",
       "    }\n",
       "\n",
       "    .dataframe tbody tr th {\n",
       "        vertical-align: top;\n",
       "    }\n",
       "\n",
       "    .dataframe thead th {\n",
       "        text-align: right;\n",
       "    }\n",
       "</style>\n",
       "<table border=\"1\" class=\"dataframe\">\n",
       "  <thead>\n",
       "    <tr style=\"text-align: right;\">\n",
       "      <th></th>\n",
       "      <th>date</th>\n",
       "      <th>date_block_num</th>\n",
       "      <th>shop_id</th>\n",
       "      <th>item_id</th>\n",
       "      <th>item_price</th>\n",
       "      <th>item_cnt_day</th>\n",
       "    </tr>\n",
       "  </thead>\n",
       "  <tbody>\n",
       "    <tr>\n",
       "      <td>484683</td>\n",
       "      <td>15.05.2013</td>\n",
       "      <td>4</td>\n",
       "      <td>32</td>\n",
       "      <td>2973</td>\n",
       "      <td>-1.0</td>\n",
       "      <td>1.0</td>\n",
       "    </tr>\n",
       "  </tbody>\n",
       "</table>\n",
       "</div>"
      ],
      "text/plain": [
       "              date  date_block_num  shop_id  item_id  item_price  item_cnt_day\n",
       "484683  15.05.2013               4       32     2973        -1.0           1.0"
      ]
     },
     "execution_count": 21,
     "metadata": {},
     "output_type": "execute_result"
    }
   ],
   "source": [
    "#number of rows having negative price of an item\n",
    "print((sales_train.item_price<0).sum())\n",
    "# fill it with median\n",
    "#first find to which shop, item_id, month it belongs\n",
    "sales_train[sales_train.item_price<0]"
   ]
  },
  {
   "cell_type": "code",
   "execution_count": 22,
   "metadata": {},
   "outputs": [],
   "source": [
    "# filing negative price of item by its median value\n",
    "median = sales_train[(sales_train.shop_id == 32) & (sales_train.item_id==2973) & (sales_train.date_block_num==4) \n",
    "            & (sales_train.item_price>0)].item_price.median()\n",
    "sales_train.loc[sales_train.item_price<0, 'item_price'] = median"
   ]
  },
  {
   "cell_type": "code",
   "execution_count": 23,
   "metadata": {},
   "outputs": [
    {
     "name": "stdout",
     "output_type": "stream",
     "text": [
      "Number of unique  shops are 60 and number of unique items are 21805\n"
     ]
    }
   ],
   "source": [
    "# getting unique shop_id and unique item_id\n",
    "shop_unique = sales_train['shop_id'].unique()\n",
    "item_id_unique = sales_train['item_id'].unique()\n",
    "print(\"Number of unique  shops are {} and number of unique items are {}\".format(len(shop_unique),\n",
    "      len(item_id_unique)))\n"
   ]
  },
  {
   "cell_type": "code",
   "execution_count": 24,
   "metadata": {},
   "outputs": [],
   "source": [
    "shops_len = shops.groupby('shop_name')['shop_id'].nunique()\n",
    "#print(shops_len);"
   ]
  },
  {
   "cell_type": "markdown",
   "metadata": {},
   "source": [
    "# EDA"
   ]
  },
  {
   "cell_type": "code",
   "execution_count": 25,
   "metadata": {
    "_kg_hide-input": true,
    "_kg_hide-output": true
   },
   "outputs": [
    {
     "data": {
      "image/png": "[encoded data removed]",
      "text/plain": [
       "<Figure size 1152x1440 with 10 Axes>"
      ]
     },
     "metadata": {
      "needs_background": "light"
     },
     "output_type": "display_data"
    }
   ],
   "source": [
    "grouped = pd.DataFrame(sales_train.groupby(['shop_id', 'date_block_num'])['item_cnt_day'].sum().reset_index())\n",
    "fig, axes = plt.subplots(nrows=5, ncols=2, sharex=True, sharey=True, figsize=(16,20))\n",
    "num_graph = 10\n",
    "id_per_graph = math.ceil(grouped.shop_id.max() / num_graph)\n",
    "count = 0\n",
    "for i in range(5):\n",
    "    for j in range(2):\n",
    "        sns.pointplot(x='date_block_num', y='item_cnt_day', hue='shop_id', data=grouped[np.logical_and(count*id_per_graph <= grouped['shop_id'], grouped['shop_id'] < (count+1)*id_per_graph)], ax=axes[i][j])\n",
    "        count += 1"
   ]
  },
  {
   "cell_type": "markdown",
   "metadata": {},
   "source": [
    "There are total 33 months, we are seeing spike at year end"
   ]
  },
  {
   "cell_type": "markdown",
   "metadata": {},
   "source": [
    "There is slight seasonality in some item_categories but not in all categories."
   ]
  },
  {
   "cell_type": "code",
   "execution_count": 26,
   "metadata": {},
   "outputs": [
    {
     "name": "stdout",
     "output_type": "stream",
     "text": [
      "Number of unique items in test data: 5100\n",
      "Number of items present in test set but not in train set: 363\n"
     ]
    }
   ],
   "source": [
    "print('Number of unique items in test data:', test.item_id.nunique())\n",
    "print('Number of items present in test set but not in train set:',len(list(set(test.item_id) - set(test.item_id).intersection(set(sales_train.item_id)))))"
   ]
  },
  {
   "cell_type": "markdown",
   "metadata": {},
   "source": [
    "NOTE: We can delete items of train set which are not present in test set, because we are not testing them anyway. But even if we keep  it should not affect the performace. So, I am not removing them."
   ]
  },
  {
   "cell_type": "markdown",
   "metadata": {},
   "source": [
    "Now making a dataframe which contains all information about all items."
   ]
  },
  {
   "cell_type": "code",
   "execution_count": 27,
   "metadata": {},
   "outputs": [
    {
     "data": {
      "text/html": [
       "<div>\n",
       "<style scoped>\n",
       "    .dataframe tbody tr th:only-of-type {\n",
       "        vertical-align: middle;\n",
       "    }\n",
       "\n",
       "    .dataframe tbody tr th {\n",
       "        vertical-align: top;\n",
       "    }\n",
       "\n",
       "    .dataframe thead th {\n",
       "        text-align: right;\n",
       "    }\n",
       "</style>\n",
       "<table border=\"1\" class=\"dataframe\">\n",
       "  <thead>\n",
       "    <tr style=\"text-align: right;\">\n",
       "      <th></th>\n",
       "      <th>item_category_name</th>\n",
       "      <th>item_category_id</th>\n",
       "      <th>item_id</th>\n",
       "    </tr>\n",
       "  </thead>\n",
       "  <tbody>\n",
       "    <tr>\n",
       "      <td>0</td>\n",
       "      <td>PC - Гарнитуры/Наушники</td>\n",
       "      <td>0</td>\n",
       "      <td>5441</td>\n",
       "    </tr>\n",
       "    <tr>\n",
       "      <td>1</td>\n",
       "      <td>PC - Гарнитуры/Наушники</td>\n",
       "      <td>0</td>\n",
       "      <td>16255</td>\n",
       "    </tr>\n",
       "    <tr>\n",
       "      <td>2</td>\n",
       "      <td>PC - Гарнитуры/Наушники</td>\n",
       "      <td>0</td>\n",
       "      <td>16256</td>\n",
       "    </tr>\n",
       "    <tr>\n",
       "      <td>3</td>\n",
       "      <td>PC - Гарнитуры/Наушники</td>\n",
       "      <td>0</td>\n",
       "      <td>16257</td>\n",
       "    </tr>\n",
       "    <tr>\n",
       "      <td>4</td>\n",
       "      <td>Аксессуары - PS2</td>\n",
       "      <td>1</td>\n",
       "      <td>5606</td>\n",
       "    </tr>\n",
       "  </tbody>\n",
       "</table>\n",
       "</div>"
      ],
      "text/plain": [
       "        item_category_name  item_category_id  item_id\n",
       "0  PC - Гарнитуры/Наушники                 0     5441\n",
       "1  PC - Гарнитуры/Наушники                 0    16255\n",
       "2  PC - Гарнитуры/Наушники                 0    16256\n",
       "3  PC - Гарнитуры/Наушники                 0    16257\n",
       "4         Аксессуары - PS2                 1     5606"
      ]
     },
     "execution_count": 27,
     "metadata": {},
     "output_type": "execute_result"
    }
   ],
   "source": [
    "item_details = pd.merge(item_categories, items[['item_id', 'item_category_id']], on ='item_category_id',how='left')\n",
    "item_details.head()"
   ]
  },
  {
   "cell_type": "code",
   "execution_count": 28,
   "metadata": {},
   "outputs": [],
   "source": [
    "item_grp = item_details['item_category_name'].apply(lambda x: str(x).split(' ')[0])\n",
    "subtype = item_details['item_category_name'].str.split('-')\n",
    "subtype = subtype.apply(lambda x: x[1].strip() if len(x) > 1 else x[0].strip())\n",
    "item_grp = pd.Categorical(item_grp).codes     # converting to label encoded feature\n",
    "subtype = pd.Categorical(subtype).codes\n",
    "item_details['item_group'] = item_grp\n",
    "item_details['subtype'] = subtype\n",
    "item_details  = item_details.drop(['item_category_name'],axis=1)"
   ]
  },
  {
   "cell_type": "code",
   "execution_count": 29,
   "metadata": {},
   "outputs": [
    {
     "data": {
      "text/html": [
       "<div>\n",
       "<style scoped>\n",
       "    .dataframe tbody tr th:only-of-type {\n",
       "        vertical-align: middle;\n",
       "    }\n",
       "\n",
       "    .dataframe tbody tr th {\n",
       "        vertical-align: top;\n",
       "    }\n",
       "\n",
       "    .dataframe thead th {\n",
       "        text-align: right;\n",
       "    }\n",
       "</style>\n",
       "<table border=\"1\" class=\"dataframe\">\n",
       "  <thead>\n",
       "    <tr style=\"text-align: right;\">\n",
       "      <th></th>\n",
       "      <th>item_category_id</th>\n",
       "      <th>item_id</th>\n",
       "      <th>item_group</th>\n",
       "      <th>subtype</th>\n",
       "      <th>item_price</th>\n",
       "    </tr>\n",
       "  </thead>\n",
       "  <tbody>\n",
       "    <tr>\n",
       "      <td>1</td>\n",
       "      <td>0</td>\n",
       "      <td>16255</td>\n",
       "      <td>0</td>\n",
       "      <td>29</td>\n",
       "      <td>93.0</td>\n",
       "    </tr>\n",
       "    <tr>\n",
       "      <td>2</td>\n",
       "      <td>0</td>\n",
       "      <td>16256</td>\n",
       "      <td>0</td>\n",
       "      <td>29</td>\n",
       "      <td>22.4</td>\n",
       "    </tr>\n",
       "    <tr>\n",
       "      <td>3</td>\n",
       "      <td>0</td>\n",
       "      <td>16257</td>\n",
       "      <td>0</td>\n",
       "      <td>29</td>\n",
       "      <td>148.0</td>\n",
       "    </tr>\n",
       "    <tr>\n",
       "      <td>4</td>\n",
       "      <td>1</td>\n",
       "      <td>5606</td>\n",
       "      <td>1</td>\n",
       "      <td>9</td>\n",
       "      <td>148.0</td>\n",
       "    </tr>\n",
       "    <tr>\n",
       "      <td>5</td>\n",
       "      <td>1</td>\n",
       "      <td>5740</td>\n",
       "      <td>1</td>\n",
       "      <td>9</td>\n",
       "      <td>283.0</td>\n",
       "    </tr>\n",
       "  </tbody>\n",
       "</table>\n",
       "</div>"
      ],
      "text/plain": [
       "   item_category_id  item_id  item_group  subtype  item_price\n",
       "1                 0    16255           0       29        93.0\n",
       "2                 0    16256           0       29        22.4\n",
       "3                 0    16257           0       29       148.0\n",
       "4                 1     5606           1        9       148.0\n",
       "5                 1     5740           1        9       283.0"
      ]
     },
     "execution_count": 29,
     "metadata": {},
     "output_type": "execute_result"
    }
   ],
   "source": [
    "#filling item details dataframe with item prices. First by adding items from training set\n",
    "# then filing NaN prices (obtained from test set) with mean\n",
    "abc = pd.merge(item_details,item_prices, on = ['item_id','item_category_id'], how='left')\n",
    "item_price_avg_subtype = abc.groupby(['item_group','subtype']).agg({'item_price':'mean'}).reset_index()\n",
    "na = abc[abc.item_price.isnull()]\n",
    "abc = abc[~abc.item_price.isnull()]\n",
    "na.drop('item_price',axis=1, inplace=True)\n",
    "na = pd.merge(na,item_price_avg_subtype, on=['item_group','subtype'], how = 'left')   #going granular to obtain better estimate of item prices\n",
    "item_details = pd.concat([abc, na],axis=0)\n",
    "item_details.head()"
   ]
  },
  {
   "cell_type": "code",
   "execution_count": 30,
   "metadata": {},
   "outputs": [],
   "source": [
    "test_shops = test.shop_id.unique()\n",
    "test_items = test.item_id.unique()\n",
    "train_shops = sales_train.shop_id.unique()\n",
    "train_items = sales_train.item_id.unique()"
   ]
  },
  {
   "cell_type": "code",
   "execution_count": 31,
   "metadata": {},
   "outputs": [],
   "source": [
    "#rolling train data at month level\n",
    "sales_monthly = sales_train.groupby(['date_block_num','shop_id','item_id']).agg({'item_cnt_day': ['sum']})\n",
    "sales_monthly.columns = ['item_cnt_month']\n",
    "sales_monthly.reset_index(inplace=True)\n",
    "\n",
    "#sales_monthly = pd.merge(sales_train, group, on=['date_block_num','shop_id','item_id'], how='left')\n",
    "sales_monthly['item_cnt_month'] = (sales_monthly['item_cnt_month']\n",
    "                                .fillna(0)\n",
    "                                .clip(0,20) # NB clip target here\n",
    "                                .astype(np.float16))"
   ]
  },
  {
   "cell_type": "markdown",
   "metadata": {},
   "source": [
    "Making matrix containing all combinations of shop X item_id within a month. This is useful in the sense that it replicates test data distribution, i.e. some shop X item would be new(not appearing in previous months) and some having item_cnt_month == 0. test data will also have some new items which have not appeared before so shop X item data is not available and for new items item_cnt might be 0."
   ]
  },
  {
   "cell_type": "code",
   "execution_count": 32,
   "metadata": {},
   "outputs": [],
   "source": [
    "matrix = []\n",
    "cols = ['date_block_num','shop_id','item_id']\n",
    "for i in range(34):\n",
    "    sales = sales_monthly[sales_monthly.date_block_num==i]\n",
    "    matrix.append(np.array(list(product([i], sales.shop_id.unique(), sales.item_id.unique())), dtype='int16'))\n",
    "    \n",
    "matrix = pd.DataFrame(np.vstack(matrix), columns=cols)\n",
    "matrix['date_block_num'] = matrix['date_block_num'].astype(np.int8)\n",
    "matrix['shop_id'] = matrix['shop_id'].astype(np.int8)\n",
    "matrix['item_id'] = matrix['item_id'].astype(np.int16)\n",
    "matrix.sort_values(cols,inplace=True)"
   ]
  },
  {
   "cell_type": "code",
   "execution_count": 33,
   "metadata": {},
   "outputs": [
    {
     "data": {
      "text/plain": [
       "(10913756, 3)"
      ]
     },
     "execution_count": 33,
     "metadata": {},
     "output_type": "execute_result"
    }
   ],
   "source": [
    "matrix.shape"
   ]
  },
  {
   "cell_type": "markdown",
   "metadata": {},
   "source": [
    "Merging item_cnt_month data with matrix, price data at 'date_block_num' X 'shop_id' X 'item_id' which was in train data will be there and rest will be missing values."
   ]
  },
  {
   "cell_type": "code",
   "execution_count": 34,
   "metadata": {},
   "outputs": [
    {
     "data": {
      "text/plain": [
       "(10913756, 4)"
      ]
     },
     "execution_count": 34,
     "metadata": {},
     "output_type": "execute_result"
    }
   ],
   "source": [
    "sales_monthly = pd.merge(matrix,sales_monthly, on = ['date_block_num','shop_id','item_id'], how = 'left')\n",
    "sales_monthly.shape"
   ]
  },
  {
   "cell_type": "code",
   "execution_count": 35,
   "metadata": {},
   "outputs": [],
   "source": [
    "del matrix\n",
    "del abc\n",
    "del na\n",
    "gc.collect();"
   ]
  },
  {
   "cell_type": "code",
   "execution_count": 36,
   "metadata": {},
   "outputs": [],
   "source": [
    "# making test data similar to train data\n",
    "test = test.drop('ID',axis=1)\n",
    "test['date_block_num']=34"
   ]
  },
  {
   "cell_type": "code",
   "execution_count": 37,
   "metadata": {},
   "outputs": [],
   "source": [
    "# joining train and test data to make feature engineering easy\n",
    "cols = ['date_block_num','shop_id','item_id']\n",
    "all_data = pd.concat([sales_monthly, test], ignore_index=True, sort=False, keys=cols)\n",
    "all_data.fillna(0, inplace=True) # for 34th month and missing values which occured during combination of shop X item"
   ]
  },
  {
   "cell_type": "markdown",
   "metadata": {},
   "source": [
    "Now merging enitre data to have item_price also, if it is not present then taken from item_details table which was made earlier. This is something unique which is not done in other kernels."
   ]
  },
  {
   "cell_type": "code",
   "execution_count": 38,
   "metadata": {},
   "outputs": [],
   "source": [
    "#adding price data at date_block level from original sales data\n",
    "all_data = pd.merge(all_data,item_prices_train_data, on = ['date_block_num','shop_id','item_id'], how = 'left')\n",
    "#for items for which we don't have price data, filing it with price value created using means and then appending\n",
    "all_data_non_null = all_data[~all_data.item_price.isnull()]\n",
    "abc = all_data[all_data.item_price.isnull()]\n",
    "abc.drop('item_price',axis=1,inplace=True)\n",
    "abc = pd.merge(abc, item_details[['item_id','item_price']], on =['item_id'],how='left')\n",
    "\n",
    "del all_data\n",
    "gc.collect();\n",
    "\n",
    "all_data = pd.concat([all_data_non_null,abc]).sort_values(by=['date_block_num','shop_id','item_id'])\n",
    "item_details.drop('item_price',axis=1, inplace=True)\n",
    "all_data = pd.merge(all_data, item_details, on =['item_id'],how='left')\n"
   ]
  },
  {
   "cell_type": "code",
   "execution_count": 39,
   "metadata": {},
   "outputs": [],
   "source": [
    "#Deleting intermediate data to reduce kernel size\n",
    "del all_data_non_null\n",
    "del abc\n",
    "del item_grp\n",
    "del subtype\n",
    "del item_prices_train_data\n",
    "del sales_monthly\n",
    "gc.collect();"
   ]
  },
  {
   "cell_type": "markdown",
   "metadata": {},
   "source": [
    "Some shops are same(insight taken from other kernels)."
   ]
  },
  {
   "cell_type": "code",
   "execution_count": 40,
   "metadata": {},
   "outputs": [
    {
     "name": "stdout",
     "output_type": "stream",
     "text": [
      "(11127956, 9)\n"
     ]
    },
    {
     "data": {
      "text/html": [
       "<div>\n",
       "<style scoped>\n",
       "    .dataframe tbody tr th:only-of-type {\n",
       "        vertical-align: middle;\n",
       "    }\n",
       "\n",
       "    .dataframe tbody tr th {\n",
       "        vertical-align: top;\n",
       "    }\n",
       "\n",
       "    .dataframe thead th {\n",
       "        text-align: right;\n",
       "    }\n",
       "</style>\n",
       "<table border=\"1\" class=\"dataframe\">\n",
       "  <thead>\n",
       "    <tr style=\"text-align: right;\">\n",
       "      <th></th>\n",
       "      <th>date_block_num</th>\n",
       "      <th>shop_id</th>\n",
       "      <th>item_id</th>\n",
       "      <th>item_cnt_month</th>\n",
       "      <th>item_price</th>\n",
       "      <th>item_category_id</th>\n",
       "      <th>item_group</th>\n",
       "      <th>subtype</th>\n",
       "      <th>city</th>\n",
       "    </tr>\n",
       "  </thead>\n",
       "  <tbody>\n",
       "    <tr>\n",
       "      <td>11127951</td>\n",
       "      <td>34</td>\n",
       "      <td>59</td>\n",
       "      <td>22162</td>\n",
       "      <td>0.0</td>\n",
       "      <td>381.663429</td>\n",
       "      <td>40</td>\n",
       "      <td>7</td>\n",
       "      <td>4</td>\n",
       "      <td>31</td>\n",
       "    </tr>\n",
       "    <tr>\n",
       "      <td>11127952</td>\n",
       "      <td>34</td>\n",
       "      <td>59</td>\n",
       "      <td>22163</td>\n",
       "      <td>0.0</td>\n",
       "      <td>164.682958</td>\n",
       "      <td>40</td>\n",
       "      <td>7</td>\n",
       "      <td>4</td>\n",
       "      <td>31</td>\n",
       "    </tr>\n",
       "    <tr>\n",
       "      <td>11127953</td>\n",
       "      <td>34</td>\n",
       "      <td>59</td>\n",
       "      <td>22164</td>\n",
       "      <td>0.0</td>\n",
       "      <td>713.525809</td>\n",
       "      <td>37</td>\n",
       "      <td>7</td>\n",
       "      <td>1</td>\n",
       "      <td>31</td>\n",
       "    </tr>\n",
       "    <tr>\n",
       "      <td>11127954</td>\n",
       "      <td>34</td>\n",
       "      <td>59</td>\n",
       "      <td>22166</td>\n",
       "      <td>0.0</td>\n",
       "      <td>150.000000</td>\n",
       "      <td>54</td>\n",
       "      <td>8</td>\n",
       "      <td>61</td>\n",
       "      <td>31</td>\n",
       "    </tr>\n",
       "    <tr>\n",
       "      <td>11127955</td>\n",
       "      <td>34</td>\n",
       "      <td>59</td>\n",
       "      <td>22167</td>\n",
       "      <td>0.0</td>\n",
       "      <td>297.686490</td>\n",
       "      <td>49</td>\n",
       "      <td>8</td>\n",
       "      <td>39</td>\n",
       "      <td>31</td>\n",
       "    </tr>\n",
       "  </tbody>\n",
       "</table>\n",
       "</div>"
      ],
      "text/plain": [
       "          date_block_num  shop_id  item_id  item_cnt_month  item_price  \\\n",
       "11127951              34       59    22162             0.0  381.663429   \n",
       "11127952              34       59    22163             0.0  164.682958   \n",
       "11127953              34       59    22164             0.0  713.525809   \n",
       "11127954              34       59    22166             0.0  150.000000   \n",
       "11127955              34       59    22167             0.0  297.686490   \n",
       "\n",
       "          item_category_id  item_group  subtype  city  \n",
       "11127951                40           7        4    31  \n",
       "11127952                40           7        4    31  \n",
       "11127953                37           7        1    31  \n",
       "11127954                54           8       61    31  \n",
       "11127955                49           8       39    31  "
      ]
     },
     "execution_count": 40,
     "metadata": {},
     "output_type": "execute_result"
    }
   ],
   "source": [
    "# Pre-processing with Shop_name\n",
    "all_data = pd.merge(all_data, shops[['shop_name','shop_id']], on ='shop_id',\n",
    "                 how='left')\n",
    "#if we see names of shop, they are all in Russian language. But there are few shops having same names but \n",
    "#extra some symbol has been added to them. we will make that same.\n",
    "\n",
    "# Якутск Орджоникидзе, 56\n",
    "all_data.loc[all_data.shop_id == 0, 'shop_id'] = 57\n",
    "all_data.loc[all_data.shop_id == 0, 'shop_name'] = 'Якутск Орджоникидзе, 56'\n",
    "test.loc[test.shop_id == 0, 'shop_id']=57\n",
    "# Якутск ТЦ \"Центральный\"\n",
    "all_data.loc[all_data.shop_id == 1, 'shop_id'] = 58\n",
    "all_data.loc[all_data.shop_id == 1, 'shop_name'] = 'Якутск ТЦ \"Центральный\"'\n",
    "test.loc[test.shop_id == 1, 'shop_id']=58\n",
    "# Жуковский ул. Чкалова 39м²\n",
    "all_data.loc[all_data.shop_id == 10, 'shop_id'] = 11\n",
    "all_data.loc[all_data.shop_id == 10, 'shop_name'] = 'Жуковский ул. Чкалова 39м²'\n",
    "test.loc[test.shop_id == 10, 'shop_id']= 11\n",
    "\n",
    "city = all_data['shop_name'].apply(lambda x: str(x).split(' ')[0])\n",
    "city = pd.Categorical(city).codes\n",
    "all_data['city'] = city\n",
    "all_data  = all_data.drop(['shop_name'],axis=1)\n",
    "print(all_data.shape)\n",
    "all_data.tail()"
   ]
  },
  {
   "cell_type": "code",
   "execution_count": 41,
   "metadata": {},
   "outputs": [
    {
     "name": "stdout",
     "output_type": "stream",
     "text": [
      "Memory usage before optimization : 0.59GB\n",
      "Memory usage after optimization : 0.28GB\n",
      "We reduced the dataframe size by 52.83%\n"
     ]
    }
   ],
   "source": [
    "#Reducing size of main dataframe\n",
    "total_before_opti = sum(all_data.memory_usage())\n",
    "reduce_size(all_data);\n",
    "\n",
    "print(\"Memory usage before optimization :\", str(round(total_before_opti/1000000000,2))+'GB')\n",
    "print(\"Memory usage after optimization :\", str(round(sum(all_data.memory_usage())/1000000000,2))+'GB')\n",
    "print(\"We reduced the dataframe size by\",str(round(((total_before_opti - sum(all_data.memory_usage())) /total_before_opti)*100,2))+'%')"
   ]
  },
  {
   "cell_type": "markdown",
   "metadata": {},
   "source": [
    "# Creating Lag Variables"
   ]
  },
  {
   "cell_type": "code",
   "execution_count": 42,
   "metadata": {},
   "outputs": [],
   "source": [
    "def lag_feature(df, lags, col):\n",
    "    tmp = df[['date_block_num','shop_id','item_id', col]]\n",
    "\n",
    "    for i in lags:\n",
    "        shifted = tmp.copy()\n",
    "        shifted.columns = ['date_block_num','shop_id','item_id',col+'_lag_'+str(i)]\n",
    "        shifted['date_block_num'] += i\n",
    "        #df.loc[i*, col+'_lag_'+str(i)] = shifted[col+'_lag_'+str(i)]\n",
    "        df = pd.merge(df, shifted, on=['date_block_num','shop_id','item_id'], how='left')\n",
    "        del shifted\n",
    "    del tmp\n",
    "    gc.collect();\n",
    "    return df"
   ]
  },
  {
   "cell_type": "markdown",
   "metadata": {},
   "source": [
    "1. Lag based on average items sold for different combinations of each date_block_num/shop_id/category"
   ]
  },
  {
   "cell_type": "code",
   "execution_count": 43,
   "metadata": {},
   "outputs": [],
   "source": [
    "group1 = all_data.groupby(['date_block_num']).agg({'item_cnt_month':['mean']})\n",
    "group1.columns = ['db_avg_items_sold']\n",
    "group1.reset_index(inplace=True)\n",
    "\n",
    "group2 = all_data.groupby(['date_block_num','shop_id']).agg({'item_cnt_month':['mean']})\n",
    "group2.columns = ['db_shop_avg_items_sold']\n",
    "group2.reset_index(inplace=True)\n",
    "\n",
    "group3 = all_data.groupby(['date_block_num','item_category_id']).agg({'item_cnt_month':['mean']})\n",
    "group3.columns = ['db_cat_avg_items_sold']\n",
    "group3.reset_index(inplace=True)\n",
    "\n",
    "group4 = all_data.groupby(['date_block_num','shop_id','item_category_id']).agg({'item_cnt_month':['mean']})\n",
    "group4.columns = ['db_shop_cat_avg_items_sold']\n",
    "group4.reset_index(inplace=True)\n",
    "\n",
    "group5 = all_data.groupby(['date_block_num','item_id']).agg({'item_cnt_month':['mean']})\n",
    "group5.columns = ['db_item_id_items_sold']\n",
    "group5.reset_index(inplace=True)\n",
    "\n",
    "group6 = all_data.groupby(['date_block_num','shop_id','city']).agg({'item_cnt_month':['mean']})\n",
    "group6.columns = ['db_shop_city_avg_items_sold']\n",
    "group6.reset_index(inplace=True)\n",
    "\n",
    "group7 = all_data.groupby(['date_block_num','city']).agg({'item_cnt_month':['mean']})\n",
    "group7.columns = ['db_city_avg_items_sold']\n",
    "group7.reset_index(inplace=True)\n",
    "\n",
    "group8 = all_data.groupby(['date_block_num','item_category_id','city']).agg({'item_cnt_month':['mean']})\n",
    "group8.columns = ['db_cat_city_avg_items_sold']\n",
    "group8.reset_index(inplace=True)"
   ]
  },
  {
   "cell_type": "code",
   "execution_count": 44,
   "metadata": {},
   "outputs": [],
   "source": [
    "#Merging lag_features with main data\n",
    "\n",
    "# group-1\n",
    "all_data = pd.merge(all_data, group1, on = ['date_block_num'], how = 'left')\n",
    "#all_data['db_avg_items_sold'] = all_data['db_avg_items_sold']\n",
    "all_data = lag_feature(all_data, [1], 'db_avg_items_sold')\n",
    "all_data.drop('db_avg_items_sold',axis=1,inplace=True)\n",
    "del group1\n",
    "gc.collect();\n",
    "#reduce_size(all_data)\n",
    "\n",
    "# group-2\n",
    "all_data = pd.merge(all_data, group2, on = ['date_block_num','shop_id'], how = 'left')\n",
    "#all_data['db_shop_avg_items_sold'] = all_data['db_shop_avg_items_sold']\n",
    "all_data = lag_feature(all_data, [1], 'db_shop_avg_items_sold')                                 # initially took 3,6,12 lag but they were not important features, checked after running model\n",
    "all_data.drop('db_shop_avg_items_sold',axis=1,inplace=True)\n",
    "del group2\n",
    "gc.collect();\n",
    "#reduce_size(all_data)\n",
    "\n",
    "# group-3\n",
    "all_data = pd.merge(all_data, group3, on = ['date_block_num','item_category_id'], how = 'left')\n",
    "#all_data['db_cat_avg_items_sold'] = all_data['db_cat_avg_items_sold']\n",
    "all_data = lag_feature(all_data, [1,2], 'db_cat_avg_items_sold')\n",
    "all_data.drop('db_cat_avg_items_sold',axis=1,inplace=True)\n",
    "del group3\n",
    "gc.collect();\n",
    "reduce_size(all_data);\n",
    "\n",
    "# group-4\n",
    "all_data = pd.merge(all_data, group4, on = ['date_block_num','shop_id','item_category_id'], how = 'left')\n",
    "#all_data['db_shop_cat_avg_items_sold'] = all_data['db_shop_cat_avg_items_sold']\n",
    "all_data = lag_feature(all_data, [1,2,3], 'db_shop_cat_avg_items_sold')\n",
    "all_data.drop('db_shop_cat_avg_items_sold',axis=1,inplace=True)\n",
    "del group4\n",
    "gc.collect();\n",
    "#reduce_size(all_data)\n",
    "\n",
    "# group-5\n",
    "all_data = pd.merge(all_data, group5, on = ['date_block_num','item_id'], how = 'left')\n",
    "#all_data['db_cat_subtype_avg_items_sold'] = all_data['db_cat_subtype_avg_items_sold']\n",
    "all_data = lag_feature(all_data, [1,2,3,6,12], 'db_item_id_items_sold')\n",
    "all_data.drop('db_item_id_items_sold',axis=1,inplace=True)\n",
    "\n",
    "del group5\n",
    "gc.collect();\n",
    "\n",
    "# group-6\n",
    "all_data = pd.merge(all_data, group6, on = ['date_block_num','shop_id','city'], how = 'left')\n",
    "#all_data['db_shop_city_avg_items_sold'] = all_data['db_shop_city_avg_items_sold']\n",
    "all_data = lag_feature(all_data, [1,2,3,6,12], 'db_shop_city_avg_items_sold')\n",
    "all_data.drop('db_shop_city_avg_items_sold',axis=1,inplace=True)\n",
    "del group6\n",
    "gc.collect();\n",
    "\n",
    "# group-7\n",
    "all_data = pd.merge(all_data, group7, on = ['date_block_num','city'], how = 'left')\n",
    "#all_data['db_city_avg_items_sold'] = all_data['db_city_avg_items_sold']\n",
    "all_data = lag_feature(all_data, [1], 'db_city_avg_items_sold')                                  # initially took 3,6,12 lag but they were not important features, checked after running model\n",
    "all_data.drop('db_city_avg_items_sold',axis=1,inplace=True)\n",
    "del group7\n",
    "gc.collect();\n",
    "\n",
    "# group-8\n",
    "all_data = pd.merge(all_data, group8, on = ['date_block_num','item_category_id','city'], how = 'left')\n",
    "#all_data['db_city_avg_items_sold'] = all_data['db_city_avg_items_sold']\n",
    "all_data = lag_feature(all_data, [1], 'db_cat_city_avg_items_sold')                            # initially took 2,3,6,12 lag but they were not important features, checked after running model\n",
    "all_data.drop('db_cat_city_avg_items_sold',axis=1,inplace=True)\n",
    "reduce_size(all_data);\n",
    "\n",
    "del group8\n",
    "gc.collect();"
   ]
  },
  {
   "cell_type": "markdown",
   "metadata": {},
   "source": [
    "2. Lag features based on min/max of item_cnt for date_block X shop X item "
   ]
  },
  {
   "cell_type": "code",
   "execution_count": 45,
   "metadata": {},
   "outputs": [],
   "source": [
    "# Creating more features\n",
    "item_max_cnt = all_data.groupby(['date_block_num','shop_id','item_id']).agg({'item_cnt_month':np.max})\n",
    "item_min_cnt = all_data.groupby(['date_block_num','shop_id','item_id']).agg({'item_cnt_month':np.min})\n",
    "item_max_cnt.columns = ['max_cnt']\n",
    "item_min_cnt.columns = ['min_cnt']\n",
    "item_max_cnt.reset_index(inplace=True)\n",
    "item_min_cnt.reset_index(inplace=True)\n",
    "\n",
    "\n",
    "all_data = pd.merge(all_data, item_max_cnt, on = ['date_block_num','shop_id','item_id'], how = 'left')\n",
    "all_data = pd.merge(all_data, item_min_cnt, on = ['date_block_num','shop_id','item_id'], how = 'left')\n",
    "\n",
    "del item_max_cnt\n",
    "del item_min_cnt\n",
    "gc.collect();\n",
    "\n",
    "all_data = lag_feature(all_data, [1,3,6], 'max_cnt') \n",
    "all_data = lag_feature(all_data, [1,3,6], 'min_cnt') \n",
    "\n",
    "all_data.drop(['max_cnt','min_cnt'], axis=1, inplace=True)"
   ]
  },
  {
   "cell_type": "code",
   "execution_count": 46,
   "metadata": {},
   "outputs": [],
   "source": [
    "#Adding month variable, it will also help in mapping holidays, number of days etc\n",
    "all_data['month'] = (all_data['date_block_num'] % 12)+1    #date_block_num starts from 1"
   ]
  },
  {
   "cell_type": "markdown",
   "metadata": {},
   "source": [
    "3. Lag features based on item_prices and revenue"
   ]
  },
  {
   "cell_type": "markdown",
   "metadata": {},
   "source": [
    "Price feature is also an important factor to consider if we are interested in seeing the sales. If month on month the price of the item is going up then ppl are less likely to buy it thereby decreasing the sales.\n",
    "We will make a delta feature which will account for change in price of item from previous month."
   ]
  },
  {
   "cell_type": "code",
   "execution_count": 47,
   "metadata": {},
   "outputs": [],
   "source": [
    "training_data_prices = all_data[(all_data.date_block_num<34)]\n",
    "# we don't  need for date_block ==34, because we are making only lag features so for last month, \n",
    "# lag can be created using previous months data\n",
    "\n",
    "price_group = training_data_prices.groupby(['date_block_num', 'item_id']).agg({'item_price':'mean'})\n",
    "price_group.columns = ['db_item_avg_price']\n",
    "\n",
    "#del training_data_prices\n",
    "#gc.collect();\n",
    "\n",
    "all_data = pd.merge(all_data,price_group, on = ['date_block_num', 'item_id'], how='left')\n",
    "\n",
    "\n",
    "del price_group\n",
    "gc.collect();\n",
    "# will fill price data for test set too\n",
    "\n",
    "all_data = lag_feature(all_data, [1,3,6,12], 'db_item_avg_price')\n",
    "lags = [1,3,6,12]\n",
    "for i in lags:\n",
    "    all_data['delta_price_lag_'+str(i)] = (all_data['db_item_avg_price'] - all_data['db_item_avg_price_lag_' + str(i)])/(all_data['db_item_avg_price'])\n",
    "\n",
    "    \n",
    "#making revenue features\n",
    "all_data['revenue'] = all_data['item_cnt_month']*all_data['item_price']\n",
    "revenue_shop = all_data.groupby(['date_block_num','shop_id','item_id']).agg({'revenue':'sum'})\n",
    "revenue_shop.columns = ['revenue_shop']\n",
    "all_data = pd.merge(all_data,revenue_shop, on = ['date_block_num','shop_id','item_id'], how='left')  # will fill price data for test set too\n",
    "\n",
    "\n",
    "all_data = lag_feature(all_data, [1,2], 'revenue_shop')\n",
    "all_data = lag_feature(all_data, [1], 'revenue')  # initialy took multiple lags, but after seeing feature importance\n",
    "                                                    #taking only lag1\n",
    "\n",
    "all_data.drop(['db_item_avg_price','revenue','revenue_shop'],axis=1,inplace=True)"
   ]
  },
  {
   "cell_type": "markdown",
   "metadata": {},
   "source": [
    "More features:"
   ]
  },
  {
   "cell_type": "code",
   "execution_count": 48,
   "metadata": {},
   "outputs": [],
   "source": [
    "all_data['item_shop_months_since_first_sale'] = all_data['date_block_num'] - all_data.groupby(['item_id','shop_id'])['date_block_num'].transform('min')\n",
    "all_data['item_months_since_first_sale'] = all_data['date_block_num'] - all_data.groupby('item_id')['date_block_num'].transform('min')"
   ]
  },
  {
   "cell_type": "code",
   "execution_count": 49,
   "metadata": {},
   "outputs": [],
   "source": [
    "reduce_size(all_data);"
   ]
  },
  {
   "cell_type": "markdown",
   "metadata": {},
   "source": [
    "Add last sales feature\n",
    "1. Item+ shop combination,months since last sale\n",
    "2. Item, months since last sale"
   ]
  },
  {
   "cell_type": "code",
   "execution_count": 50,
   "metadata": {},
   "outputs": [],
   "source": [
    "cache = {}\n",
    "all_data['item_shop_last_sale'] = 0\n",
    "all_data['item_shop_last_sale'] = all_data['item_shop_last_sale'].astype(np.int8)\n",
    "for idx, row in all_data.iterrows():    \n",
    "    key = str(row.item_id)+' '+str(row.shop_id)\n",
    "    if key not in cache:\n",
    "        if row.item_cnt_month!=0:\n",
    "            cache[key] = row.date_block_num\n",
    "    else:\n",
    "        last_date_block_num = cache[key]\n",
    "        all_data.at[idx, 'item_shop_last_sale'] = row.date_block_num - last_date_block_num\n",
    "        cache[key] = row.date_block_num\n",
    "\n",
    "del cache\n",
    "gc.collect();"
   ]
  },
  {
   "cell_type": "code",
   "execution_count": 51,
   "metadata": {},
   "outputs": [
    {
     "data": {
      "text/plain": [
       "\"\\ncache = {}\\nall_data['item_last_sale'] = 0\\nall_data['item_last_sale'] = all_data['item_last_sale'].astype(np.int8)\\nfor idx, row in all_data.iterrows():    \\n    key = row.item_id\\n    if key not in cache:\\n        if row.item_cnt_month!=0:\\n            cache[key] = row.date_block_num\\n    else:\\n        last_date_block_num = cache[key]\\n        if row.date_block_num>last_date_block_num:\\n            all_data.at[idx, 'item_last_sale'] = row.date_block_num - last_date_block_num\\n            cache[key] = row.date_block_num \\n            \\ndel cache\\ngc.collect();\\n\""
      ]
     },
     "execution_count": 51,
     "metadata": {},
     "output_type": "execute_result"
    }
   ],
   "source": [
    "# was killing the kernel because of size\n",
    "'''\n",
    "cache = {}\n",
    "all_data['item_last_sale'] = 0\n",
    "all_data['item_last_sale'] = all_data['item_last_sale'].astype(np.int8)\n",
    "for idx, row in all_data.iterrows():    \n",
    "    key = row.item_id\n",
    "    if key not in cache:\n",
    "        if row.item_cnt_month!=0:\n",
    "            cache[key] = row.date_block_num\n",
    "    else:\n",
    "        last_date_block_num = cache[key]\n",
    "        if row.date_block_num>last_date_block_num:\n",
    "            all_data.at[idx, 'item_last_sale'] = row.date_block_num - last_date_block_num\n",
    "            cache[key] = row.date_block_num \n",
    "            \n",
    "del cache\n",
    "gc.collect();\n",
    "'''"
   ]
  },
  {
   "cell_type": "markdown",
   "metadata": {},
   "source": [
    "More lag features!!"
   ]
  },
  {
   "cell_type": "code",
   "execution_count": 52,
   "metadata": {},
   "outputs": [],
   "source": [
    "lags = [1,3,6,12]\n",
    "def select_first_non_null(row):\n",
    "    for i in lags:\n",
    "        if row['delta_price_lag_'+str(i)]:\n",
    "            return row['delta_price_lag_'+str(i)]\n",
    "    return 0\n",
    "    \n",
    "all_data['delta_price_lag'] = all_data.apply(select_first_non_null, axis=1).astype(np.float16)\n",
    "all_data['delta_price_lag'].fillna(0, inplace=True)\n",
    "\n",
    "all_data.item_cnt_month = all_data.item_cnt_month.astype('float32')"
   ]
  },
  {
   "cell_type": "code",
   "execution_count": 53,
   "metadata": {},
   "outputs": [
    {
     "data": {
      "text/plain": [
       "[<matplotlib.lines.Line2D at 0x25d1e9ce888>]"
      ]
     },
     "execution_count": 53,
     "metadata": {},
     "output_type": "execute_result"
    },
    {
     "data": {
      "image/png": "[encoded data removed]",
      "text/plain": [
       "<Figure size 432x288 with 1 Axes>"
      ]
     },
     "metadata": {
      "needs_background": "light"
     },
     "output_type": "display_data"
    }
   ],
   "source": [
    "#Visualize item sales for each calendar month\n",
    "a = all_data.groupby('date_block_num').agg({'item_cnt_month':'sum'})\n",
    "plt.plot(a)\n",
    "\n",
    "#del a \n",
    "#gc.collect();"
   ]
  },
  {
   "cell_type": "markdown",
   "metadata": {},
   "source": [
    "From city name (first word of shop name, translated)  we observe that it is data of Russia. So adding new feature regarding Number of national holidays + religious holidays and other, in Russia for each month.\n",
    "Source: https://www.timeanddate.com/holidays/russia/#!hol=25231673\n",
    "NOTE: Seeing the month over month trend of items sales, the sales shoot up in Dec as compared to november probably due to year end. Although in the given source holiays in Dec are 1 only, but due  to sales I am making it close to Jan holidays manually."
   ]
  },
  {
   "cell_type": "code",
   "execution_count": 54,
   "metadata": {},
   "outputs": [
    {
     "data": {
      "text/html": [
       "<div>\n",
       "<style scoped>\n",
       "    .dataframe tbody tr th:only-of-type {\n",
       "        vertical-align: middle;\n",
       "    }\n",
       "\n",
       "    .dataframe tbody tr th {\n",
       "        vertical-align: top;\n",
       "    }\n",
       "\n",
       "    .dataframe thead th {\n",
       "        text-align: right;\n",
       "    }\n",
       "</style>\n",
       "<table border=\"1\" class=\"dataframe\">\n",
       "  <thead>\n",
       "    <tr style=\"text-align: right;\">\n",
       "      <th></th>\n",
       "      <th>date_block_num</th>\n",
       "      <th>shop_id</th>\n",
       "      <th>item_id</th>\n",
       "      <th>item_cnt_month</th>\n",
       "      <th>item_price</th>\n",
       "      <th>item_category_id</th>\n",
       "      <th>item_group</th>\n",
       "      <th>subtype</th>\n",
       "      <th>city</th>\n",
       "      <th>db_avg_items_sold_lag_1</th>\n",
       "      <th>...</th>\n",
       "      <th>revenue_shop_lag_1</th>\n",
       "      <th>revenue_shop_lag_2</th>\n",
       "      <th>revenue_lag_1</th>\n",
       "      <th>item_shop_months_since_first_sale</th>\n",
       "      <th>item_months_since_first_sale</th>\n",
       "      <th>item_shop_last_sale</th>\n",
       "      <th>delta_price_lag</th>\n",
       "      <th>num_holidays</th>\n",
       "      <th>num_days</th>\n",
       "      <th>is_dec</th>\n",
       "    </tr>\n",
       "  </thead>\n",
       "  <tbody>\n",
       "    <tr>\n",
       "      <td>0</td>\n",
       "      <td>0</td>\n",
       "      <td>57</td>\n",
       "      <td>19</td>\n",
       "      <td>0.0</td>\n",
       "      <td>28.000000</td>\n",
       "      <td>40</td>\n",
       "      <td>7</td>\n",
       "      <td>4</td>\n",
       "      <td>0</td>\n",
       "      <td>NaN</td>\n",
       "      <td>...</td>\n",
       "      <td>NaN</td>\n",
       "      <td>NaN</td>\n",
       "      <td>NaN</td>\n",
       "      <td>0</td>\n",
       "      <td>0</td>\n",
       "      <td>0</td>\n",
       "      <td>0.0</td>\n",
       "      <td>6</td>\n",
       "      <td>31</td>\n",
       "      <td>0</td>\n",
       "    </tr>\n",
       "    <tr>\n",
       "      <td>1</td>\n",
       "      <td>0</td>\n",
       "      <td>57</td>\n",
       "      <td>27</td>\n",
       "      <td>0.0</td>\n",
       "      <td>1461.228516</td>\n",
       "      <td>19</td>\n",
       "      <td>5</td>\n",
       "      <td>10</td>\n",
       "      <td>0</td>\n",
       "      <td>NaN</td>\n",
       "      <td>...</td>\n",
       "      <td>NaN</td>\n",
       "      <td>NaN</td>\n",
       "      <td>NaN</td>\n",
       "      <td>0</td>\n",
       "      <td>0</td>\n",
       "      <td>0</td>\n",
       "      <td>0.0</td>\n",
       "      <td>6</td>\n",
       "      <td>31</td>\n",
       "      <td>0</td>\n",
       "    </tr>\n",
       "    <tr>\n",
       "      <td>2</td>\n",
       "      <td>0</td>\n",
       "      <td>57</td>\n",
       "      <td>28</td>\n",
       "      <td>0.0</td>\n",
       "      <td>310.010468</td>\n",
       "      <td>30</td>\n",
       "      <td>5</td>\n",
       "      <td>55</td>\n",
       "      <td>0</td>\n",
       "      <td>NaN</td>\n",
       "      <td>...</td>\n",
       "      <td>NaN</td>\n",
       "      <td>NaN</td>\n",
       "      <td>NaN</td>\n",
       "      <td>0</td>\n",
       "      <td>0</td>\n",
       "      <td>0</td>\n",
       "      <td>0.0</td>\n",
       "      <td>6</td>\n",
       "      <td>31</td>\n",
       "      <td>0</td>\n",
       "    </tr>\n",
       "    <tr>\n",
       "      <td>3</td>\n",
       "      <td>0</td>\n",
       "      <td>57</td>\n",
       "      <td>29</td>\n",
       "      <td>0.0</td>\n",
       "      <td>1759.285767</td>\n",
       "      <td>23</td>\n",
       "      <td>5</td>\n",
       "      <td>16</td>\n",
       "      <td>0</td>\n",
       "      <td>NaN</td>\n",
       "      <td>...</td>\n",
       "      <td>NaN</td>\n",
       "      <td>NaN</td>\n",
       "      <td>NaN</td>\n",
       "      <td>0</td>\n",
       "      <td>0</td>\n",
       "      <td>0</td>\n",
       "      <td>0.0</td>\n",
       "      <td>6</td>\n",
       "      <td>31</td>\n",
       "      <td>0</td>\n",
       "    </tr>\n",
       "    <tr>\n",
       "      <td>4</td>\n",
       "      <td>0</td>\n",
       "      <td>57</td>\n",
       "      <td>32</td>\n",
       "      <td>6.0</td>\n",
       "      <td>221.000000</td>\n",
       "      <td>40</td>\n",
       "      <td>7</td>\n",
       "      <td>4</td>\n",
       "      <td>0</td>\n",
       "      <td>NaN</td>\n",
       "      <td>...</td>\n",
       "      <td>NaN</td>\n",
       "      <td>NaN</td>\n",
       "      <td>NaN</td>\n",
       "      <td>0</td>\n",
       "      <td>0</td>\n",
       "      <td>0</td>\n",
       "      <td>0.0</td>\n",
       "      <td>6</td>\n",
       "      <td>31</td>\n",
       "      <td>0</td>\n",
       "    </tr>\n",
       "  </tbody>\n",
       "</table>\n",
       "<p>5 rows × 53 columns</p>\n",
       "</div>"
      ],
      "text/plain": [
       "   date_block_num  shop_id  item_id  item_cnt_month   item_price  \\\n",
       "0               0       57       19             0.0    28.000000   \n",
       "1               0       57       27             0.0  1461.228516   \n",
       "2               0       57       28             0.0   310.010468   \n",
       "3               0       57       29             0.0  1759.285767   \n",
       "4               0       57       32             6.0   221.000000   \n",
       "\n",
       "   item_category_id  item_group  subtype  city  db_avg_items_sold_lag_1  ...  \\\n",
       "0                40           7        4     0                      NaN  ...   \n",
       "1                19           5       10     0                      NaN  ...   \n",
       "2                30           5       55     0                      NaN  ...   \n",
       "3                23           5       16     0                      NaN  ...   \n",
       "4                40           7        4     0                      NaN  ...   \n",
       "\n",
       "   revenue_shop_lag_1  revenue_shop_lag_2  revenue_lag_1  \\\n",
       "0                 NaN                 NaN            NaN   \n",
       "1                 NaN                 NaN            NaN   \n",
       "2                 NaN                 NaN            NaN   \n",
       "3                 NaN                 NaN            NaN   \n",
       "4                 NaN                 NaN            NaN   \n",
       "\n",
       "   item_shop_months_since_first_sale  item_months_since_first_sale  \\\n",
       "0                                  0                             0   \n",
       "1                                  0                             0   \n",
       "2                                  0                             0   \n",
       "3                                  0                             0   \n",
       "4                                  0                             0   \n",
       "\n",
       "   item_shop_last_sale  delta_price_lag  num_holidays  num_days  is_dec  \n",
       "0                    0              0.0             6        31       0  \n",
       "1                    0              0.0             6        31       0  \n",
       "2                    0              0.0             6        31       0  \n",
       "3                    0              0.0             6        31       0  \n",
       "4                    0              0.0             6        31       0  \n",
       "\n",
       "[5 rows x 53 columns]"
      ]
     },
     "execution_count": 54,
     "metadata": {},
     "output_type": "execute_result"
    }
   ],
   "source": [
    "holidays_dict1 = {1 : 7, 2:3, 3:2, 4:2, 5:7, 6:3,7:0, 8:1, 9:3, 10:0, 11:2, 12:6}  #source: mentioned above\n",
    "holidays_dict2 = {1 : 6, 2:3, 3:2, 4:8, 5:3, 6:3,7:2, 8:8, 9:4, 10:8, 11:5, 12:4}  #source: from other kernels\n",
    "num_days_dict = {1:31 ,2:28 ,3:31,4:30 ,5:31,6: 30,7:31,8:31,9:30,10:31,11:30,12:31}\n",
    "is_dec = {1:0 ,2:0 ,3:0,4:0 ,5:0,6: 0,7:0,8:0,9:0,10:0,11:0,12:1}\n",
    "'''\n",
    "# the following feature captures inflation rate starting from Jan 2013, Source: Internet\n",
    "inflation_cpi = {1: 7.07, 2: 7.28, 3: 7.02, 4: 7.23, 5: 7.38, 6: 6.88, 7: 6.45, 8: 6.49, 9: 6.13, 10: 6.25, 11: 6.5, 12: 6.45, 13: 6.05, 14: 6.19, 15: 6.91, 16: 7.33, 17: 7.59\n",
    "                 ,18: 7.8, 19: 7.45, 20: 7.55, 21: 8.03, 22: 8.29, 23: 9.06, 24: 11.36, 25: 14.97, 26: 16.71, 27: 16.93, 28: 16.42, 29: 15.78, 30: 15.29, 31: 15.64, 32: 15.77, 33: 15.68\n",
    "                 , 34: 15.59, 35: 14.98, 36: 12.91}\n",
    "'''\n",
    "all_data['num_holidays'] = all_data['month'].map(holidays_dict2) #giving better performance\n",
    "all_data['num_days'] = all_data['month'].map(num_days_dict)\n",
    "#all_data['inflation_cpi'] = all_data['date_block_num'].map(inflation_cpi)\n",
    "all_data['is_dec'] = all_data['month'].map(is_dec)\n",
    "all_data.head()"
   ]
  },
  {
   "cell_type": "code",
   "execution_count": 55,
   "metadata": {},
   "outputs": [],
   "source": [
    "#deleting files which are not required\n",
    "del shops\n",
    "del items\n",
    "del item_categories\n",
    "del city\n",
    "gc.collect();"
   ]
  },
  {
   "cell_type": "markdown",
   "metadata": {},
   "source": [
    "Since we have used various lag features including 6 and 12 months lag, they produce lot of NaN values. It is not exactly right to fill those values with '0' because say 12 months earlier the item_count was not zero. It is just that the data doesn't exist for that. Although, We can fill it with 0 and run the model and it will give some result. But that intuitively is not correct. \n",
    "So we delete data for which date_block_num<=12"
   ]
  },
  {
   "cell_type": "markdown",
   "metadata": {},
   "source": [
    "NOTE: Originally we have data till date_block_num = 33, and had to predict for 34\n",
    "We had increased date_block_num by 1, so now we have data till 34 and have to predict for 35, which is test set and already appended in all_data."
   ]
  },
  {
   "cell_type": "code",
   "execution_count": 56,
   "metadata": {},
   "outputs": [],
   "source": [
    "reduce_size(all_data);"
   ]
  },
  {
   "cell_type": "code",
   "execution_count": 57,
   "metadata": {},
   "outputs": [],
   "source": [
    "all_data1 = all_data[all_data.date_block_num>=12]\n",
    "\n",
    "del all_data\n",
    "gc.collect();"
   ]
  },
  {
   "cell_type": "markdown",
   "metadata": {},
   "source": [
    "After removing first 12 months data, we still have NaN values in db_xxxx_item_sold features. This could mean that the item wasn't sold at all before 1,2,3,6,12 month, So now we can fill it with '0' which is right.\n",
    "Also, for delta price feature, if the value is NaN then it means the item was not available in some previous month with which lag is taken, so we will fill it with 0."
   ]
  },
  {
   "cell_type": "code",
   "execution_count": 58,
   "metadata": {},
   "outputs": [],
   "source": [
    "def fillna(df):\n",
    "    for col in df.columns:\n",
    "        if (('_lag_' in col) & (df[col].isnull().any())):\n",
    "            if ('_items_sold' in col):\n",
    "                df[col].fillna(0,inplace=True)\n",
    "            if ('_price_lag_' in col):\n",
    "                df[col].fillna(0,inplace=True)\n",
    "            if ('revenue_shop_lag' in col):\n",
    "                df[col].fillna(0,inplace=True)\n",
    "            if ('revenue_lag' in col):\n",
    "                df[col].fillna(0,inplace=True)\n",
    "    return df"
   ]
  },
  {
   "cell_type": "code",
   "execution_count": 59,
   "metadata": {},
   "outputs": [
    {
     "data": {
      "text/html": [
       "<div>\n",
       "<style scoped>\n",
       "    .dataframe tbody tr th:only-of-type {\n",
       "        vertical-align: middle;\n",
       "    }\n",
       "\n",
       "    .dataframe tbody tr th {\n",
       "        vertical-align: top;\n",
       "    }\n",
       "\n",
       "    .dataframe thead th {\n",
       "        text-align: right;\n",
       "    }\n",
       "</style>\n",
       "<table border=\"1\" class=\"dataframe\">\n",
       "  <thead>\n",
       "    <tr style=\"text-align: right;\">\n",
       "      <th></th>\n",
       "      <th>date_block_num</th>\n",
       "      <th>shop_id</th>\n",
       "      <th>item_id</th>\n",
       "      <th>item_cnt_month</th>\n",
       "      <th>item_price</th>\n",
       "      <th>item_category_id</th>\n",
       "      <th>item_group</th>\n",
       "      <th>subtype</th>\n",
       "      <th>city</th>\n",
       "      <th>db_avg_items_sold_lag_1</th>\n",
       "      <th>...</th>\n",
       "      <th>revenue_shop_lag_1</th>\n",
       "      <th>revenue_shop_lag_2</th>\n",
       "      <th>revenue_lag_1</th>\n",
       "      <th>item_shop_months_since_first_sale</th>\n",
       "      <th>item_months_since_first_sale</th>\n",
       "      <th>item_shop_last_sale</th>\n",
       "      <th>delta_price_lag</th>\n",
       "      <th>num_holidays</th>\n",
       "      <th>num_days</th>\n",
       "      <th>is_dec</th>\n",
       "    </tr>\n",
       "  </thead>\n",
       "  <tbody>\n",
       "    <tr>\n",
       "      <td>4488710</td>\n",
       "      <td>12</td>\n",
       "      <td>2</td>\n",
       "      <td>27</td>\n",
       "      <td>0.0</td>\n",
       "      <td>1461.228516</td>\n",
       "      <td>19</td>\n",
       "      <td>5</td>\n",
       "      <td>10</td>\n",
       "      <td>1</td>\n",
       "      <td>0.411377</td>\n",
       "      <td>...</td>\n",
       "      <td>0.0</td>\n",
       "      <td>0.0</td>\n",
       "      <td>0.0</td>\n",
       "      <td>12</td>\n",
       "      <td>12</td>\n",
       "      <td>1</td>\n",
       "      <td>0.017822</td>\n",
       "      <td>6</td>\n",
       "      <td>31</td>\n",
       "      <td>0</td>\n",
       "    </tr>\n",
       "    <tr>\n",
       "      <td>4488711</td>\n",
       "      <td>12</td>\n",
       "      <td>2</td>\n",
       "      <td>30</td>\n",
       "      <td>0.0</td>\n",
       "      <td>323.679199</td>\n",
       "      <td>40</td>\n",
       "      <td>7</td>\n",
       "      <td>4</td>\n",
       "      <td>1</td>\n",
       "      <td>0.411377</td>\n",
       "      <td>...</td>\n",
       "      <td>0.0</td>\n",
       "      <td>0.0</td>\n",
       "      <td>0.0</td>\n",
       "      <td>11</td>\n",
       "      <td>11</td>\n",
       "      <td>1</td>\n",
       "      <td>-0.064880</td>\n",
       "      <td>6</td>\n",
       "      <td>31</td>\n",
       "      <td>0</td>\n",
       "    </tr>\n",
       "  </tbody>\n",
       "</table>\n",
       "<p>2 rows × 53 columns</p>\n",
       "</div>"
      ],
      "text/plain": [
       "         date_block_num  shop_id  item_id  item_cnt_month   item_price  \\\n",
       "4488710              12        2       27             0.0  1461.228516   \n",
       "4488711              12        2       30             0.0   323.679199   \n",
       "\n",
       "         item_category_id  item_group  subtype  city  db_avg_items_sold_lag_1  \\\n",
       "4488710                19           5       10     1                 0.411377   \n",
       "4488711                40           7        4     1                 0.411377   \n",
       "\n",
       "         ...  revenue_shop_lag_1  revenue_shop_lag_2  revenue_lag_1  \\\n",
       "4488710  ...                 0.0                 0.0            0.0   \n",
       "4488711  ...                 0.0                 0.0            0.0   \n",
       "\n",
       "         item_shop_months_since_first_sale  item_months_since_first_sale  \\\n",
       "4488710                                 12                            12   \n",
       "4488711                                 11                            11   \n",
       "\n",
       "         item_shop_last_sale  delta_price_lag  num_holidays  num_days  is_dec  \n",
       "4488710                    1         0.017822             6        31       0  \n",
       "4488711                    1        -0.064880             6        31       0  \n",
       "\n",
       "[2 rows x 53 columns]"
      ]
     },
     "execution_count": 59,
     "metadata": {},
     "output_type": "execute_result"
    }
   ],
   "source": [
    "all_data1 = fillna(all_data1)\n",
    "all_data1.head(2)"
   ]
  },
  {
   "cell_type": "markdown",
   "metadata": {},
   "source": [
    "NOTE: Encoding are created on actual train data i.e. date_block>=12 and not on date_block>=0, as it would give better results."
   ]
  },
  {
   "cell_type": "markdown",
   "metadata": {},
   "source": [
    "Creating mean encoded features as discussed in other courses"
   ]
  },
  {
   "cell_type": "code",
   "execution_count": 60,
   "metadata": {},
   "outputs": [],
   "source": [
    "# Encoding-1\n",
    "\n",
    "n_row_test = all_data1[all_data1.date_block_num==34].shape[0]\n",
    "n_row_train = all_data1[all_data1.date_block_num<34].shape[0]\n",
    "\n",
    "mean_item_cnt = all_data1.item_cnt_month.mean()\n",
    "\n",
    "#Calculate a mapping: {item_id: target_mean}\n",
    "item_id_target_mean = all_data1[:n_row_train].groupby('item_id').item_cnt_month.mean()\n",
    "\n",
    "#In our non-regularized case we just *map* the computed means to the `item_id`'s\n",
    "all_data1['item_target_enc'] = all_data1['item_id'].map(item_id_target_mean)\n",
    "\n",
    "#Fill NaNs\n",
    "all_data1['item_target_enc'].fillna(mean_item_cnt, inplace=True) \n",
    "\n",
    "\n",
    "#Calculate a mapping: {city: target_mean}\n",
    "item_id_target_mean = all_data1[:n_row_train].groupby('city').item_cnt_month.mean()\n",
    "\n",
    "#In our non-regularized case we just *map* the computed means to the `item_id`'s\n",
    "all_data1['city_target_enc'] = all_data1['city'].map(item_id_target_mean)\n",
    "\n",
    "#Fill NaNs\n",
    "all_data1['city_target_enc'].fillna(mean_item_cnt, inplace=True) \n",
    "\n",
    "\n",
    "#Calculate a mapping: {month: target_mean}\n",
    "item_id_target_mean = all_data1[:n_row_train].groupby('month').item_cnt_month.mean()\n",
    "\n",
    "#In our non-regularized case we just *map* the computed means to the `item_id`'s\n",
    "all_data1['month_target_enc'] = all_data1['month'].map(item_id_target_mean)\n",
    "\n",
    "#Fill NaNs\n",
    "all_data1['month_target_enc'].fillna(mean_item_cnt, inplace=True) \n",
    "\n",
    "#Calculate a mapping: {item_category_id: target_mean}\n",
    "item_id_target_mean = all_data1[:n_row_train].groupby('item_category_id').item_cnt_month.mean()\n",
    "\n",
    "#In our non-regularized case we just *map* the computed means to the `item_id`'s\n",
    "all_data1['item_id_target_enc'] = all_data1['item_category_id'].map(item_id_target_mean)\n",
    "\n",
    "#Fill NaNs\n",
    "all_data1['item_id_target_enc'].fillna(mean_item_cnt, inplace=True) \n"
   ]
  },
  {
   "cell_type": "markdown",
   "metadata": {},
   "source": [
    "Creating encoded features using expanding mean"
   ]
  },
  {
   "cell_type": "code",
   "execution_count": 61,
   "metadata": {},
   "outputs": [],
   "source": [
    "#Encoding-2\n",
    "\n",
    "cumsum = all_data1.groupby('city').item_cnt_month.cumsum() - all_data1['item_cnt_month']\n",
    "cumcnt = all_data1.groupby('city').cumcount()\n",
    "all_data1['city_target_enc_2'] = cumsum/cumcnt\n",
    "\n",
    "# Fill NaNs\n",
    "all_data1['city_target_enc_2'].fillna(mean_item_cnt, inplace=True) \n",
    "\n",
    "cumsum = all_data1.groupby('item_id').item_cnt_month.cumsum() - all_data1['item_cnt_month']\n",
    "cumcnt = all_data1.groupby('item_id').cumcount()\n",
    "all_data1['item_id_target_enc_2'] = cumsum/cumcnt\n",
    "\n",
    "# Fill NaNs\n",
    "all_data1['item_id_target_enc_2'].fillna(mean_item_cnt, inplace=True) \n",
    "\n",
    "cumsum = all_data1.groupby('month').item_cnt_month.cumsum() - all_data1['item_cnt_month']\n",
    "cumcnt = all_data1.groupby('month').cumcount()\n",
    "all_data1['month_target_enc_2'] = cumsum/cumcnt\n",
    "\n",
    "# Fill NaNs\n",
    "all_data1['month_target_enc_2'].fillna(mean_item_cnt, inplace=True) \n",
    "\n",
    "cumsum = all_data1.groupby('subtype').item_cnt_month.cumsum() - all_data1['item_cnt_month']\n",
    "cumcnt = all_data1.groupby('subtype').cumcount()\n",
    "all_data1['subtype_target_enc_2'] = cumsum/cumcnt\n",
    "\n",
    "# Fill NaNs\n",
    "all_data1['subtype_target_enc_2'].fillna(mean_item_cnt, inplace=True) \n",
    "\n",
    "cumsum = all_data1.groupby('item_category_id').item_cnt_month.cumsum() - all_data1['item_cnt_month']\n",
    "cumcnt = all_data1.groupby('item_category_id').cumcount()\n",
    "all_data1['item_cat_target_enc_2'] = cumsum/cumcnt\n",
    "\n",
    "# Fill NaNs\n",
    "all_data1['item_cat_target_enc_2'].fillna(mean_item_cnt, inplace=True) \n",
    "\n",
    "cumsum = all_data1.groupby('item_group').item_cnt_month.cumsum() - all_data1['item_cnt_month']\n",
    "cumcnt = all_data1.groupby('item_group').cumcount()\n",
    "all_data1['item_group_target_enc_2'] = cumsum/cumcnt\n",
    "\n",
    "# Fill NaNs\n",
    "all_data1['item_group_target_enc_2'].fillna(mean_item_cnt, inplace=True)\n",
    "\n",
    "del cumsum\n",
    "del cumcnt\n",
    "gc.collect();"
   ]
  },
  {
   "cell_type": "code",
   "execution_count": 62,
   "metadata": {},
   "outputs": [],
   "source": [
    "reduce_size(all_data1);"
   ]
  },
  {
   "cell_type": "code",
   "execution_count": 63,
   "metadata": {},
   "outputs": [
    {
     "data": {
      "text/html": [
       "<div>\n",
       "<style scoped>\n",
       "    .dataframe tbody tr th:only-of-type {\n",
       "        vertical-align: middle;\n",
       "    }\n",
       "\n",
       "    .dataframe tbody tr th {\n",
       "        vertical-align: top;\n",
       "    }\n",
       "\n",
       "    .dataframe thead th {\n",
       "        text-align: right;\n",
       "    }\n",
       "</style>\n",
       "<table border=\"1\" class=\"dataframe\">\n",
       "  <thead>\n",
       "    <tr style=\"text-align: right;\">\n",
       "      <th></th>\n",
       "      <th>date_block_num</th>\n",
       "      <th>shop_id</th>\n",
       "      <th>item_id</th>\n",
       "      <th>item_cnt_month</th>\n",
       "      <th>item_price</th>\n",
       "      <th>item_category_id</th>\n",
       "      <th>item_group</th>\n",
       "      <th>subtype</th>\n",
       "      <th>city</th>\n",
       "      <th>db_avg_items_sold_lag_1</th>\n",
       "      <th>...</th>\n",
       "      <th>item_target_enc</th>\n",
       "      <th>city_target_enc</th>\n",
       "      <th>month_target_enc</th>\n",
       "      <th>item_id_target_enc</th>\n",
       "      <th>city_target_enc_2</th>\n",
       "      <th>item_id_target_enc_2</th>\n",
       "      <th>month_target_enc_2</th>\n",
       "      <th>subtype_target_enc_2</th>\n",
       "      <th>item_cat_target_enc_2</th>\n",
       "      <th>item_group_target_enc_2</th>\n",
       "    </tr>\n",
       "  </thead>\n",
       "  <tbody>\n",
       "    <tr>\n",
       "      <td>4488710</td>\n",
       "      <td>12</td>\n",
       "      <td>2</td>\n",
       "      <td>27</td>\n",
       "      <td>0.0</td>\n",
       "      <td>1461.228516</td>\n",
       "      <td>19</td>\n",
       "      <td>5</td>\n",
       "      <td>10</td>\n",
       "      <td>1</td>\n",
       "      <td>0.411377</td>\n",
       "      <td>...</td>\n",
       "      <td>0.031250</td>\n",
       "      <td>0.142274</td>\n",
       "      <td>0.3142</td>\n",
       "      <td>0.590881</td>\n",
       "      <td>0.278447</td>\n",
       "      <td>0.278447</td>\n",
       "      <td>0.278447</td>\n",
       "      <td>0.278447</td>\n",
       "      <td>0.278447</td>\n",
       "      <td>0.278447</td>\n",
       "    </tr>\n",
       "    <tr>\n",
       "      <td>4488711</td>\n",
       "      <td>12</td>\n",
       "      <td>2</td>\n",
       "      <td>30</td>\n",
       "      <td>0.0</td>\n",
       "      <td>323.679199</td>\n",
       "      <td>40</td>\n",
       "      <td>7</td>\n",
       "      <td>4</td>\n",
       "      <td>1</td>\n",
       "      <td>0.411377</td>\n",
       "      <td>...</td>\n",
       "      <td>0.289702</td>\n",
       "      <td>0.142274</td>\n",
       "      <td>0.3142</td>\n",
       "      <td>0.239189</td>\n",
       "      <td>0.000000</td>\n",
       "      <td>0.278447</td>\n",
       "      <td>0.000000</td>\n",
       "      <td>0.278447</td>\n",
       "      <td>0.278447</td>\n",
       "      <td>0.278447</td>\n",
       "    </tr>\n",
       "  </tbody>\n",
       "</table>\n",
       "<p>2 rows × 63 columns</p>\n",
       "</div>"
      ],
      "text/plain": [
       "         date_block_num  shop_id  item_id  item_cnt_month   item_price  \\\n",
       "4488710              12        2       27             0.0  1461.228516   \n",
       "4488711              12        2       30             0.0   323.679199   \n",
       "\n",
       "         item_category_id  item_group  subtype  city  db_avg_items_sold_lag_1  \\\n",
       "4488710                19           5       10     1                 0.411377   \n",
       "4488711                40           7        4     1                 0.411377   \n",
       "\n",
       "         ...  item_target_enc  city_target_enc  month_target_enc  \\\n",
       "4488710  ...         0.031250         0.142274            0.3142   \n",
       "4488711  ...         0.289702         0.142274            0.3142   \n",
       "\n",
       "         item_id_target_enc  city_target_enc_2  item_id_target_enc_2  \\\n",
       "4488710            0.590881           0.278447              0.278447   \n",
       "4488711            0.239189           0.000000              0.278447   \n",
       "\n",
       "         month_target_enc_2  subtype_target_enc_2  item_cat_target_enc_2  \\\n",
       "4488710            0.278447              0.278447               0.278447   \n",
       "4488711            0.000000              0.278447               0.278447   \n",
       "\n",
       "         item_group_target_enc_2  \n",
       "4488710                 0.278447  \n",
       "4488711                 0.278447  \n",
       "\n",
       "[2 rows x 63 columns]"
      ]
     },
     "execution_count": 63,
     "metadata": {},
     "output_type": "execute_result"
    }
   ],
   "source": [
    "all_data1.head(2)"
   ]
  },
  {
   "cell_type": "markdown",
   "metadata": {},
   "source": [
    "Saving data to use in other kernel, because training in this kernel was killing it."
   ]
  },
  {
   "cell_type": "code",
   "execution_count": 64,
   "metadata": {},
   "outputs": [],
   "source": [
    "# saving data\n",
    "model_file = \"all_data1\"\n",
    "with open(model_file,mode='wb') as model_f:\n",
    "    pickle.dump(all_data1,model_f)"
   ]
  }
 ],
 "metadata": {
  "kernelspec": {
   "display_name": "Python 3",
   "language": "python",
   "name": "python3"
  },
  "language_info": {
   "codemirror_mode": {
    "name": "ipython",
    "version": 3
   },
   "file_extension": ".py",
   "mimetype": "text/x-python",
   "name": "python",
   "nbconvert_exporter": "python",
   "pygments_lexer": "ipython3",
   "version": "3.7.4"
  }
 },
 "nbformat": 4,
 "nbformat_minor": 1
}
